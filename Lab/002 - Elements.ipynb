{
 "cells": [
  {
   "cell_type": "code",
   "execution_count": null,
   "metadata": {
    "collapsed": true
   },
   "outputs": [],
   "source": [
    "import pickle\n",
    "from enum import IntEnum, unique"
   ]
  },
  {
   "cell_type": "code",
   "execution_count": null,
   "metadata": {
    "collapsed": true
   },
   "outputs": [],
   "source": [
    "class Molecules(object):\n",
    "    \"Molecules\"    \n",
    "    \n",
    "    # global dictionary to store molecules\n",
    "    __molecules = dict([])\n",
    "    \n",
    "    def __init(self):\n",
    "        self.__molecules.clear()\n",
    "        \n",
    "    def saveMolecules(self, filename):        \n",
    "        with open(filename, 'wb') as pklfile:\n",
    "            pickle.dump(self.__molecules, pklfile, pickle.HIGHEST_PROTOCOL)\n",
    "                \n",
    "    def loadMolecules(self, filename):        \n",
    "        with open(filename, 'rb') as pklfile:\n",
    "            self.__molecules = pickle.load(pklfile)\n",
    "            \n",
    "    def addMolecule(self, molId, smiles):\n",
    "        \"Adds a new molecule in the internal dictionary\"\n",
    "        self.__molecules.update({molId: smiles})\n",
    "\n",
    "    def addMolecules(self, molecules):\n",
    "        self.__molecules.update(molecules)\n",
    "\n",
    "    def printMolecules(self, n=-1):\n",
    "        \"Pretty print our molecules data bank\"\n",
    "        print(\"ID\\t|\\tSMILES\")\n",
    "        print(\"-------------------------------------------------------------------\")    \n",
    "        message = \"(Showing first %d molecules from %d)\" % (n, len(self.__molecules))\n",
    "        for molId, smiles in self.__molecules.iteritems():        \n",
    "            print(\"%s\\t|\\t%s\" % (molId, smiles))\n",
    "            n = n - 1\n",
    "            if n == 0:\n",
    "                print(message)\n",
    "                break\n",
    "                \n",
    "    def getMolecules(self):\n",
    "        return self.__molecules"
   ]
  },
  {
   "cell_type": "code",
   "execution_count": null,
   "metadata": {
    "collapsed": true
   },
   "outputs": [],
   "source": [
    "@unique\n",
    "class BindingAttribute(IntEnum):\n",
    "    ASSAY_ID = 0\n",
    "    MOLREGNO = 1\n",
    "    STD_RELATION = 2\n",
    "    STD_VALUE = 3\n",
    "    STD_UNITS = 4                      \n",
    "    STD_TYPE = 5\n",
    "    PCHEMBL_VALUE = 6\n",
    "    COMPONENT_ID = 7\n",
    "    ACCESSION = 8\n",
    "    SEQUENCE = 9\n",
    "    CANONICAL_SMILES = 10"
   ]
  },
  {
   "cell_type": "code",
   "execution_count": null,
   "metadata": {
    "collapsed": true
   },
   "outputs": [],
   "source": [
    "class Bindings(object):\n",
    "    \"Bindings\"\n",
    "    \n",
    "    import pickle\n",
    "    \n",
    "    # global dictionary to store bindings\n",
    "    __bindings = dict([])\n",
    "    \n",
    "    def __init(self):\n",
    "        self.__bindings.clear()\n",
    "        \n",
    "    def saveBindings(self, filename):        \n",
    "        with open(filename, 'wb') as pklfile:\n",
    "            pickle.dump(self.__bindings, pklfile, pickle.HIGHEST_PROTOCOL)\n",
    "                \n",
    "    def loadBindings(self, filename):        \n",
    "        with open(filename, 'rb') as pklfile:\n",
    "            self.__bindings = pickle.load(pklfile)\n",
    "            \n",
    "    def addBinding(self, assay_id, molregno, std_relation, std_value, std_units, std_type, \n",
    "                     pchembl_value, component_id, accession, sequence, canonical_smiles):\n",
    "        \"Adds a new binding in the internal dictionary\"\n",
    "        self.__bindings.update({assay_id: [molregno, std_relation, std_value, std_units, \n",
    "                                                std_type, pchembl_value, component_id, accession, \n",
    "                                                sequence, canonical_smiles]})\n",
    "\n",
    "    def addBindings(self, bindings):\n",
    "        self.__bindings.update(bindings)\n",
    "\n",
    "    def printBindings(self, n=-1):\n",
    "        \"Pretty print our bindings data bank\"\n",
    "        print(\"Index\\t|\\tMolNo\\t|\\tCompID\\t|\\tpChEMBL_Value\")\n",
    "        print(\"-----------------------------------------------------------------------------------\")    \n",
    "        message = \"(Showing first %d bindings from %d)\" % (n, len(self.__bindings))\n",
    "        for index, data in self.__bindings.iteritems():        \n",
    "            print(\"%s\\t|\\t%s\\t|\\t%s\\t|\\t%s\" % (index, \n",
    "                                               data[BindingAttribute.MOLREGNO], \n",
    "                                               data[BindingAttribute.COMPONENT_ID], data[BindingAttribute.PCHEMBL_VALUE]))\n",
    "            n = n - 1\n",
    "            if n == 0:\n",
    "                print(message)\n",
    "                break\n",
    "                \n",
    "    def getBindings(self):\n",
    "        return self.__bindings"
   ]
  },
  {
   "cell_type": "code",
   "execution_count": null,
   "metadata": {
    "collapsed": true
   },
   "outputs": [],
   "source": [
    "class Proteins(object):\n",
    "    \"Proteins\"    \n",
    "    \n",
    "    # global dictionary to store proteins\n",
    "    __proteins = dict([])\n",
    "        \n",
    "    def __init(self):\n",
    "        self.__proteins.clear()\n",
    "        \n",
    "    def saveProteins(self, filename):        \n",
    "        with open(filename, 'wb') as pklfile:\n",
    "            pickle.dump(self.__proteins, pklfile, pickle.HIGHEST_PROTOCOL)\n",
    "                \n",
    "    def loadProteins(self, filename):        \n",
    "        with open(filename, 'rb') as pklfile:\n",
    "            self.__proteins = pickle.load(pklfile)\n",
    "            \n",
    "    def addProtein(self, proteinId, sequence):\n",
    "        \"Adds a new protein in the internal dictionary\"\n",
    "        self.__proteins.update({proteinId: sequence})\n",
    "\n",
    "    def addProteins(self, proteins):\n",
    "        self.__proteins.update(proteins)\n",
    "\n",
    "    def printProteins(self, n=-1):\n",
    "        \"Pretty print our proteins data bank\"\n",
    "        print(\"ID\\t|\\tSequence\")\n",
    "        print(\"-------------------------------------------------------------------\")    \n",
    "        message = \"(Showing first %d proteins from %d)\" % (n, len(self.__proteins))\n",
    "        for proteinId, sequence in self.__proteins.iteritems():        \n",
    "            print(\"%s\\t|\\t%s\" % (proteinId, sequence))\n",
    "            n = n - 1\n",
    "            if n == 0:\n",
    "                print(message)\n",
    "                break\n",
    "                \n",
    "    def getProteins(self):\n",
    "        return self.__proteins"
   ]
  }
 ],
 "metadata": {
  "kernelspec": {
   "display_name": "Python 2",
   "language": "python",
   "name": "python2"
  },
  "language_info": {
   "codemirror_mode": {
    "name": "ipython",
    "version": 2
   },
   "file_extension": ".py",
   "mimetype": "text/x-python",
   "name": "python",
   "nbconvert_exporter": "python",
   "pygments_lexer": "ipython2",
   "version": "2.7.12"
  }
 },
 "nbformat": 4,
 "nbformat_minor": 2
}
