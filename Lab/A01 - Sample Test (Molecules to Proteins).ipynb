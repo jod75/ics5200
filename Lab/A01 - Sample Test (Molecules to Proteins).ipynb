{
 "cells": [
  {
   "cell_type": "markdown",
   "metadata": {},
   "source": [
    "# Test using sample data\n",
    "\n",
    "In this notebook, we get a sample data from ChEMBL and using an unseen molecule, the program suggests putative protein targets.\n",
    "\n",
    "For this notebook to run correctly, it needs to be running using _pyspark_ kernel.  This is done by starting Jupyter notebook using the following command line statement:\n",
    "\n",
    "```bash\n",
    "PYSPARK_DRIVER_PYTHON=\"jupyter\" PYSPARK_DRIVER_PYTHON_OPTS=\"notebook\" pyspark --master yarn --verbose\n",
    "```\n",
    "\n",
    "- `--master yarn` instructs pyspark to run in YARN mode.  Leaving this out runs in standalone mode (just one node).\n",
    "- `--verbose` provides more details in pyspark console.  This is useful for debugging and to understand what is going on.\n",
    "\n",
    "Monitor cluster tasks from [Personal Hadoop Dashboard](http://hadoop1:8088/cluster).\n",
    "\n",
    "Information about _pyspark packages_ is found at [Apache Spark pyspark homepage](http://spark.apache.org/docs/latest/api/python/pyspark.html \"pyspark packages\").\n",
    "\n",
    "Python API docs are available from [here](https://spark.apache.org/docs/1.6.2/api/python/index.html)."
   ]
  },
  {
   "cell_type": "code",
   "execution_count": 1,
   "metadata": {
    "collapsed": true
   },
   "outputs": [],
   "source": [
    "# set Spark Context logging level to info - this is useful for debugging purposes\n",
    "sc.setLogLevel(\"INFO\")"
   ]
  },
  {
   "cell_type": "markdown",
   "metadata": {},
   "source": [
    "The dependencies in the cell below are used by Spark workers, thus they need to be available by all cluster nodes.  This is done by using Spark Context's `addPyFile()`. "
   ]
  },
  {
   "cell_type": "code",
   "execution_count": 2,
   "metadata": {
    "collapsed": false
   },
   "outputs": [],
   "source": [
    "sc.addPyFile(\"moleculehelper.py\") # 300 - Ligand framework\n",
    "sc.addPyFile(\"pythonhelper.py\")   # 001 - Python Helper.ipynb"
   ]
  },
  {
   "cell_type": "code",
   "execution_count": 3,
   "metadata": {
    "collapsed": false
   },
   "outputs": [],
   "source": [
    "from pyspark.sql.types import *\n",
    "from pyspark.sql.functions import col, desc\n",
    "\n",
    "from rdkit import Chem\n",
    "from rdkit.Chem import AllChem\n",
    "from rdkit import DataStructs\n",
    "from rdkit.Chem import MACCSkeys\n",
    "\n",
    "from moleculehelper import *\n",
    "from chemblhelper import ChEMBLHelper\n",
    "from pythonhelper import *\n",
    "from hdfshelper import HDFSHelper\n",
    "\n",
    "import os.path"
   ]
  },
  {
   "cell_type": "markdown",
   "metadata": {},
   "source": [
    "## Get data from ChEMBL\n",
    "\n",
    "### All Data (sample)\n",
    "\n",
    "In this setup, ChEMBL database is downloaded and attached to a MySQL server running at address (192.168.151.11).  Any ChEMBL related methods are encapsulated in a Python helper class, named `ChEMBLHelper`.  This class is defined in [`000 - ChEMBL Helper.ipynb`](000%20-%20ChEMBL%20Helper.ipynb).  It takes care to connect to MySQL server, get the required data and return is in the different formats required.  See `ChEMBLHelper` Jupyter Notebook for more detail, especially the `__doc__` documentation for information about the methods and how they work.  See [PEP-0257](https://www.python.org/dev/peps/pep-0257/) for semantic and conventions associated with Python docstrings.\n",
    "\n",
    "__NOTE__: MySQL connection string is hardcoded in the mentioned helper class."
   ]
  },
  {
   "cell_type": "code",
   "execution_count": 4,
   "metadata": {
    "collapsed": false
   },
   "outputs": [],
   "source": [
    "# get small dataset from ChEMBL\n",
    "chemblhelper = ChEMBLHelper()\n",
    "\n",
    "hdfsServer = \"http://hadoop1:50070\"                          # hdfs path\n",
    "datasetCount = 100000                                        # dataset count of bindings from ChEMBL\n",
    "datasetTSVFilename = \"sample\" + str(datasetCount) + \".tsv\"   # file with sample data\n",
    "hdfsDatasetFilename = os.path.join(\"/user/hduser\", datasetTSVFilename)\n",
    "\n",
    "# check if the dataset file exists in hdfs and if it does not, then load data from ChEMBL database\n",
    "if not HDFSHelper.fileExists(hdfsServer, hdfsDatasetFilename):\n",
    "    # get data from ChEMBL and stores the file to local dfs\n",
    "    chemblhelper.saveBindingsToTSV(datasetTSVFilename, datasetCount) \n",
    "    # upload data to hdfs so that it is accessbile from all cluster worker nodes\n",
    "    HDFSHelper.putFile(hdfsServer, datasetTSVFilename, hdfsDatasetFilename)"
   ]
  },
  {
   "cell_type": "code",
   "execution_count": 5,
   "metadata": {
    "collapsed": false
   },
   "outputs": [
    {
     "data": {
      "text/plain": [
       "100000"
      ]
     },
     "execution_count": 5,
     "metadata": {},
     "output_type": "execute_result"
    }
   ],
   "source": [
    "# create an RDD with all data\n",
    "dataRDD = sc.textFile(hdfsDatasetFilename) \\\n",
    "            .map(lambda line: line.split(\"\\t\")) \n",
    "\n",
    "# convert each line (currently an list) to a tuple.  This makes it easier to manipulate \n",
    "# the data, especially to convert to DataFrames\n",
    "dataRDD = dataRDD.map(lambda l: tuple(l))\n",
    "\n",
    "dataRDD.count()"
   ]
  },
  {
   "cell_type": "code",
   "execution_count": 6,
   "metadata": {
    "collapsed": false
   },
   "outputs": [
    {
     "data": {
      "text/plain": [
       "[(u'1.0',\n",
       "  u'1459233',\n",
       "  u'222065',\n",
       "  u'=',\n",
       "  u'0.900000000000000000000000000000',\n",
       "  u'nM',\n",
       "  u'Ki',\n",
       "  u'9.050000000000000000000000000000',\n",
       "  u'1',\n",
       "  u'O09028',\n",
       "  u'MSYSLYLAFVCLNLLAQRMCIQGNQFNVEVSRSDKLSLPGFENLTAGYNKFLRPNFGGDPVRIALTLDIASISSISESNMDYTATIYLRQRWTDPRLVFEGNKSFTLDARLVEFLWVPDTYIVESKKSFLHEVTVGNRLIRLFSNGTVLYALRITTTVTCNMDLSKYPMDTQTCKLQLESWGYDGNDVEFSWLRGNDSVRGLENLRLAQYTIQQYFTLVTVSQQETGNYTRLVLQFELRRNVLYFILETYVPSTFLVVLSWVSFWISLESVPARTCIGVTTVLSMTTLMIGSRTSLPNTNCFIKAIDVYLGICFSFVFGALLEYAVAHYSSLQQMAVKDRGPAKDSEEVNITNIINSSISSFKRKISFASIEISGDNVNYSDLTMKASDKFKFVFREKIGRIIDYFTIQNPSNVDRYSKLLFPLIFMLANVFYWAYYMYF',\n",
       "  u'Cc1ccc2OC(=CC(=O)c2c1)c3cc(Br)ccc3O'),\n",
       " (u'2.0',\n",
       "  u'1459233',\n",
       "  u'86147',\n",
       "  u'=',\n",
       "  u'1.500000000000000000000000000000',\n",
       "  u'nM',\n",
       "  u'Ki',\n",
       "  u'8.820000000000000000000000000000',\n",
       "  u'1',\n",
       "  u'O09028',\n",
       "  u'MSYSLYLAFVCLNLLAQRMCIQGNQFNVEVSRSDKLSLPGFENLTAGYNKFLRPNFGGDPVRIALTLDIASISSISESNMDYTATIYLRQRWTDPRLVFEGNKSFTLDARLVEFLWVPDTYIVESKKSFLHEVTVGNRLIRLFSNGTVLYALRITTTVTCNMDLSKYPMDTQTCKLQLESWGYDGNDVEFSWLRGNDSVRGLENLRLAQYTIQQYFTLVTVSQQETGNYTRLVLQFELRRNVLYFILETYVPSTFLVVLSWVSFWISLESVPARTCIGVTTVLSMTTLMIGSRTSLPNTNCFIKAIDVYLGICFSFVFGALLEYAVAHYSSLQQMAVKDRGPAKDSEEVNITNIINSSISSFKRKISFASIEISGDNVNYSDLTMKASDKFKFVFREKIGRIIDYFTIQNPSNVDRYSKLLFPLIFMLANVFYWAYYMYF',\n",
       "  u'[O-][N+](=O)c1cccc(c1)C2=CC(=O)c3cc(Br)ccc3O2')]"
      ]
     },
     "execution_count": 6,
     "metadata": {},
     "output_type": "execute_result"
    }
   ],
   "source": [
    "dataRDD.take(2)"
   ]
  },
  {
   "cell_type": "code",
   "execution_count": 12,
   "metadata": {
    "collapsed": false
   },
   "outputs": [
    {
     "data": {
      "text/plain": [
       "u'1459233'"
      ]
     },
     "execution_count": 12,
     "metadata": {},
     "output_type": "execute_result"
    }
   ],
   "source": [
    "dataRDD.filter(lambda t: t[2] == '86147').take(1)[0][1]"
   ]
  },
  {
   "cell_type": "markdown",
   "metadata": {},
   "source": [
    "### Take a sample for testing\n",
    "Take random 1% out molecules from dataset.  This will later be used to test the solution.  "
   ]
  },
  {
   "cell_type": "code",
   "execution_count": 7,
   "metadata": {
    "collapsed": false
   },
   "outputs": [],
   "source": [
    "moleculesSample = dataRDD.map(lambda t: long(t[2])).distinct().sample(withReplacement=False, seed=1, fraction=0.01)"
   ]
  },
  {
   "cell_type": "code",
   "execution_count": 8,
   "metadata": {
    "collapsed": false
   },
   "outputs": [],
   "source": [
    "# broadcast value as a list of lonf numbers so that mapping is faster\n",
    "moleculesSampleBV = sc.broadcast(moleculesSample.collect())"
   ]
  },
  {
   "cell_type": "code",
   "execution_count": 9,
   "metadata": {
    "collapsed": false
   },
   "outputs": [],
   "source": [
    "# test data is reserved as unseen knowledge\n",
    "testData = dataRDD.filter(lambda t: long(t[2]) in moleculesSampleBV.value)"
   ]
  },
  {
   "cell_type": "code",
   "execution_count": 10,
   "metadata": {
    "collapsed": true
   },
   "outputs": [],
   "source": [
    "# sample data is the known dataset\n",
    "sampleData = dataRDD.subtract(testData)"
   ]
  },
  {
   "cell_type": "code",
   "execution_count": 11,
   "metadata": {
    "collapsed": false
   },
   "outputs": [
    {
     "name": "stdout",
     "output_type": "stream",
     "text": [
      "dataRDD count = 100000\n",
      "sampleData count (99010) + testData count (990) = 100000\n",
      "test sample ratio = 0.0099\n"
     ]
    }
   ],
   "source": [
    "# cross check data\n",
    "dataRDDCount = dataRDD.count()\n",
    "sampleDataCount = sampleData.count()\n",
    "testDataCount = testData.count()\n",
    "\n",
    "print \"dataRDD count = \" + str(dataRDDCount)\n",
    "print \"sampleData count (\" + str(sampleDataCount) + \\\n",
    "        \") + testData count (\" + str(testDataCount) + \\\n",
    "        \") = \" + str(sampleDataCount + testDataCount)\n",
    "print \"test sample ratio = \" + str((1.0 * testDataCount) / dataRDDCount)"
   ]
  },
  {
   "cell_type": "markdown",
   "metadata": {},
   "source": [
    "### Molecules"
   ]
  },
  {
   "cell_type": "code",
   "execution_count": 13,
   "metadata": {
    "collapsed": false
   },
   "outputs": [
    {
     "data": {
      "text/plain": [
       "58817"
      ]
     },
     "execution_count": 13,
     "metadata": {},
     "output_type": "execute_result"
    }
   ],
   "source": [
    "# each line need to be converted to a tuple so that later it is converted into a DF\n",
    "moleculesRDD = sampleData.map(lambda t: (long(t[2]),str(t[11]))).distinct()\n",
    "\n",
    "# binding schema\n",
    "moleculesSchema = StructType([StructField(\"molregno\", IntegerType(), False),\n",
    "                              StructField(\"canonical_smiles\", StringType(), False)])\n",
    "\n",
    "# convert RDD to DataFrame - faster and more memory efficient\n",
    "molecules = sqlContext.createDataFrame(moleculesRDD, moleculesSchema)\n",
    "\n",
    "molecules.count()"
   ]
  },
  {
   "cell_type": "code",
   "execution_count": 14,
   "metadata": {
    "collapsed": false
   },
   "outputs": [
    {
     "name": "stdout",
     "output_type": "stream",
     "text": [
      "+--------+------------------------------------------------------------+\n",
      "|molregno|canonical_smiles                                            |\n",
      "+--------+------------------------------------------------------------+\n",
      "|1611015 |COc1ccc(cc1OC)c2cnc3[nH]cc(c4ccc(OC)c(OC)c4)c3c2            |\n",
      "|979451  |CN(C)c1ncc2N=C(CCc3ccccc3)C(=O)N(Cc4ccc(F)cc4)c2n1          |\n",
      "|1615431 |Cc1c(O)cccc1c2nc3c(OCC4CCCCC4)nc(N)nc3[nH]2                 |\n",
      "|846502  |C[C@H]1[C@@H]2CC[C@]3(C)[C@@H]([C@H]2OC1=O)[C@](C)(O)C=CC3=O|\n",
      "|1005961 |COc1cccc(c1)c2noc(N)c2C#N                                   |\n",
      "|244372  |NCCc1ccc(cc1)C(=O)NCC(=O)N2CCN(CC(=O)O)C(=O)C2              |\n",
      "|1000277 |Clc1cccc(NC(=O)Nc2ccc3nccnc3c2)c1                           |\n",
      "|602426  |Nc1c(oc2ccc(Br)cc12)C(=O)c3ccccc3                           |\n",
      "|940541  |Cc1cccc(C)c1OCc2onc(c2)C(=O)N3CCN(CC3)c4ccc(F)cc4           |\n",
      "|861294  |Clc1ccc(cc1)C(=O)Nc2cc3OCCOc3cc2C(=O)c4ccc(Br)cc4           |\n",
      "+--------+------------------------------------------------------------+\n",
      "only showing top 10 rows\n",
      "\n"
     ]
    }
   ],
   "source": [
    "molecules.show(10, truncate=False)"
   ]
  },
  {
   "cell_type": "markdown",
   "metadata": {},
   "source": [
    "### Bindings"
   ]
  },
  {
   "cell_type": "code",
   "execution_count": 15,
   "metadata": {
    "collapsed": false
   },
   "outputs": [],
   "source": [
    "bindingsRDD = sampleData.map(lambda t: (long(t[0].rstrip(\".0\")),\n",
    "                                        long(t[1]),                                      \n",
    "                                        long(t[2]),\n",
    "                                        str(t[3]),\n",
    "                                        PythonHelper.getDecimal(t[4]),\n",
    "                                        str(t[5]),\n",
    "                                        str(t[6]),\n",
    "                                        PythonHelper.getDecimal(t[7]),\n",
    "                                        long(t[8]))\n",
    "                            ) # each line need to be converted to a tuple so that later it is converted into a DF\n",
    "\n",
    "# binding schema\n",
    "bindingsSchema = StructType([StructField(\"row_id\", LongType(), False),\n",
    "                             StructField(\"assay_id\", LongType(), False),                            \n",
    "                             StructField(\"molregno\", LongType(), False),\n",
    "                             StructField(\"std_relation\", StringType(), True),\n",
    "                             StructField(\"std_value\", DecimalType(), True),\n",
    "                             StructField(\"std_units\", StringType(), True),\n",
    "                             StructField(\"std_type\", StringType(), True),\n",
    "                             StructField(\"pchembl_value\", DecimalType(), True),\n",
    "                             StructField(\"component_id\", LongType(), False)])\n",
    "\n",
    "# convert RDD to DataFrame - faster and more memory efficient\n",
    "bindings = sqlContext.createDataFrame(bindingsRDD, bindingsSchema)"
   ]
  },
  {
   "cell_type": "code",
   "execution_count": 16,
   "metadata": {
    "collapsed": false
   },
   "outputs": [
    {
     "data": {
      "text/plain": [
       "99010"
      ]
     },
     "execution_count": 16,
     "metadata": {},
     "output_type": "execute_result"
    }
   ],
   "source": [
    "bindings.count()"
   ]
  },
  {
   "cell_type": "code",
   "execution_count": 17,
   "metadata": {
    "collapsed": false
   },
   "outputs": [
    {
     "name": "stdout",
     "output_type": "stream",
     "text": [
      "+------+--------+--------+------------+---------+---------+----------+-------------+------------+\n",
      "|row_id|assay_id|molregno|std_relation|std_value|std_units|  std_type|pchembl_value|component_id|\n",
      "+------+--------+--------+------------+---------+---------+----------+-------------+------------+\n",
      "| 75305|  688258| 1697408|           =|     3548|       nM|   Potency|            5|          40|\n",
      "| 11557|  688546|  899243|           =|      501|       nM|   Potency|            6|           3|\n",
      "| 14823|  688546| 1021201|           =|    12589|       nM|   Potency|            5|           3|\n",
      "| 14284|  688546|  757723|           =|    31623|       nM|   Potency|            5|           3|\n",
      "| 72527|  424976|  369315|           =|       20|        %|Inhibition|         null|          37|\n",
      "+------+--------+--------+------------+---------+---------+----------+-------------+------------+\n",
      "only showing top 5 rows\n",
      "\n"
     ]
    }
   ],
   "source": [
    "bindings.show(5)"
   ]
  },
  {
   "cell_type": "markdown",
   "metadata": {},
   "source": [
    "### Proteins"
   ]
  },
  {
   "cell_type": "code",
   "execution_count": 18,
   "metadata": {
    "collapsed": false
   },
   "outputs": [
    {
     "data": {
      "text/plain": [
       "46"
      ]
     },
     "execution_count": 18,
     "metadata": {},
     "output_type": "execute_result"
    }
   ],
   "source": [
    "# each line need to be converted to a tuple so that later it is converted into a DF\n",
    "proteinsRDD = sampleData.map(lambda t: (long(t[8]),str(t[9]),str(t[10]))).distinct()\n",
    "\n",
    "# binding schema\n",
    "proteinsSchema = StructType([StructField(\"component_id\", LongType(), False),\n",
    "                             StructField(\"accession\", StringType(), True),\n",
    "                             StructField(\"sequence\", StringType(), False)])\n",
    "\n",
    "# convert RDD to DataFrame - faster and more memory efficient\n",
    "proteins = sqlContext.createDataFrame(proteinsRDD, proteinsSchema)\n",
    "\n",
    "proteins.count()"
   ]
  },
  {
   "cell_type": "code",
   "execution_count": 19,
   "metadata": {
    "collapsed": false
   },
   "outputs": [
    {
     "name": "stdout",
     "output_type": "stream",
     "text": [
      "+------------+---------+--------------------+\n",
      "|component_id|accession|            sequence|\n",
      "+------------+---------+--------------------+\n",
      "|          25|   P15823|MNPDLDTGHNTSAPAHW...|\n",
      "|          46|   P43681|MELGGPGAPRLLPPLLL...|\n",
      "|          41|   P30191|MLLLLPWLFSLLWIENA...|\n",
      "|          42|   P30926|MRRAPSLVLFFLVALCG...|\n",
      "|           3|   P04637|MEEPQSDPSVEPPLSQE...|\n",
      "|          16|   P11230|MTPGALLMLLGALGAPL...|\n",
      "|          29|   P19969|MDNGMLSRFIMTKTLLV...|\n",
      "|           2|   P02708|MEPWPLLLLFSLCSAGL...|\n",
      "|          30|   P20236|MITTQMWHFYVTRVGLL...|\n",
      "|           4|   P04757|MGVVLLPPPLSMLMLVL...|\n",
      "+------------+---------+--------------------+\n",
      "only showing top 10 rows\n",
      "\n"
     ]
    }
   ],
   "source": [
    "proteins.show(10)"
   ]
  },
  {
   "cell_type": "markdown",
   "metadata": {},
   "source": [
    "## Run PySpark Jobs\n",
    "\n",
    "In the next section, we will run a number of Spark jobs to get Molecule similarities"
   ]
  },
  {
   "cell_type": "code",
   "execution_count": 61,
   "metadata": {
    "collapsed": true
   },
   "outputs": [],
   "source": [
    "# this must run on the main thread\n",
    "def findSimilarMolecules(querySmiles, knownMolecules, molHelper = MoleculeHelper, similarityThreshold = 0.85):\n",
    "    \"\"\" Returns an RDD with similar molecules.\n",
    "    \"\"\"\n",
    "    \n",
    "    # step 1 - create a molecule helper class for each molecule, this will take\n",
    "    #          more memory but will increase computation efficiency\n",
    "    queryMol = dict()\n",
    "    queryMol.update({0: querySmiles})\n",
    "    queryRDD = sc.parallelize(queryMol).map(lambda k:(k, molHelper(queryMol[k])))\n",
    "    mols = knownMolecules.rdd.map(lambda (k, v):(k, molHelper(v)))\n",
    "\n",
    "    sm = mols.cartesian(queryRDD) \\\n",
    "             .map(lambda ((k1,v1),(k2,v2)): (k1, float(v1.similarity(v2)))) \\\n",
    "             .filter(lambda (k1, v): v >= similarityThreshold)    \n",
    "            \n",
    "    simSchema = StructType([StructField(\"molregno\", LongType(), False),\n",
    "                            #StructField(\"queryMol\", LongType(), False),\n",
    "                            StructField(\"similarity\", FloatType(), False)])\n",
    "\n",
    "    sim = sqlContext.createDataFrame(sm, simSchema)\n",
    "    \n",
    "    return sim"
   ]
  },
  {
   "cell_type": "code",
   "execution_count": 62,
   "metadata": {
    "collapsed": false
   },
   "outputs": [],
   "source": [
    "def getBindings(similarMolecules):\n",
    "    return bindings.join(similarMolecules, bindings.molregno == similarMolecules.molregno)"
   ]
  },
  {
   "cell_type": "code",
   "execution_count": 63,
   "metadata": {
    "collapsed": false
   },
   "outputs": [],
   "source": [
    "def experiment(experimentsData, moleculeIndex, knownMolecules, molHelper = MoleculeHelper, similarityThreshold = 0.85):\n",
    "    selectedMolecules = experimentsData.map(lambda t: (long(t[2]), t[11])).distinct().sortBy(lambda x: x[0])\n",
    "    selectedMoleculeMolRegNo = selectedMolecules.collect()[moleculeIndex][0]\n",
    "    selectedMoleculeSMILES =selectedMolecules.collect()[moleculeIndex][1]\n",
    "    \n",
    "    print \"MolRegNo = \" + str(selectedMoleculeMolRegNo)\n",
    "    print \"SMILES = \" + selectedMoleculeSMILES\n",
    "    \n",
    "    expData = experimentsData.filter(lambda t: long(t[2]) == selectedMoleculeMolRegNo).map(lambda m: m[8]).distinct().collect()\n",
    "    \n",
    "    print \"Target Componet IDs:\"\n",
    "    for compId in expData:\n",
    "        print \"  \" + str(compId)\n",
    "    \n",
    "    sm = findSimilarMolecules(selectedMoleculeSMILES, knownMolecules, molHelper, similarityThreshold)\n",
    "    return getBindings(sm)    "
   ]
  },
  {
   "cell_type": "code",
   "execution_count": 64,
   "metadata": {
    "collapsed": false
   },
   "outputs": [
    {
     "name": "stdout",
     "output_type": "stream",
     "text": [
      "MolRegNo = 309565\n",
      "SMILES = OC(=O)CC(NC(=O)C1CCN(CC1)C(=O)CCCNC2=NCCN2)c3cnc4ccccc4c3\n",
      "Target Componet IDs:\n",
      "  5\n",
      "  8\n"
     ]
    }
   ],
   "source": [
    "# find similar molecules using Tanimoto (default) and Morgan fingerprint\n",
    "test = experiment(testData, 30, molecules, similarityThreshold = 0.5)"
   ]
  },
  {
   "cell_type": "code",
   "execution_count": 65,
   "metadata": {
    "collapsed": false
   },
   "outputs": [
    {
     "name": "stdout",
     "output_type": "stream",
     "text": [
      "+------+--------+--------+------------+---------+---------+--------+-------------+------------+--------+----------+\n",
      "|row_id|assay_id|molregno|std_relation|std_value|std_units|std_type|pchembl_value|component_id|molregno|similarity|\n",
      "+------+--------+--------+------------+---------+---------+--------+-------------+------------+--------+----------+\n",
      "| 51363|  305859|  311499|           =|      170|       nM|    IC50|            7|           5|  311499|       1.0|\n",
      "| 49079|  305552|  311499|           =|        4|       nM|    IC50|            8|           5|  311499|       1.0|\n",
      "| 56293|  305553|  311499|           =|      470|       nM|    IC50|            6|           8|  311499|       1.0|\n",
      "| 55289|  305552|  311499|           =|        4|       nM|    IC50|            8|           8|  311499|       1.0|\n",
      "| 49047|  305375|  309829|           =|       19|       nM|    IC50|            8|           5|  309829|0.74666667|\n",
      "| 55258|  305375|  309829|           =|       46|       nM|    IC50|            7|           8|  309829|0.74666667|\n",
      "| 51374|  305995|  309829|           =|     1810|       nM|    IC50|            6|           5|  309829|0.74666667|\n",
      "| 51373|  305995|  309829|           =|     1800|       nM|    IC50|            6|           5|  309829|0.74666667|\n",
      "| 49048|  305375|  309829|           =|       46|       nM|    IC50|            7|           5|  309829|0.74666667|\n",
      "| 55257|  305375|  309829|           =|       19|       nM|    IC50|            8|           8|  309829|0.74666667|\n",
      "| 51377|  305995|  309968|           =|     2850|       nM|    IC50|            6|           5|  309968|  0.627907|\n",
      "|  4908|  305552|  311429|           =|        3|       nM|    IC50|            9|           5|  311429|  0.627907|\n",
      "| 49051|  305375|  309968|           =|        3|       nM|    IC50|            9|           5|  309968|  0.627907|\n",
      "| 55261|  305375|  309968|           =|        3|       nM|    IC50|            9|           8|  309968|  0.627907|\n",
      "| 56294|  305553|  311429|           =|      270|       nM|    IC50|            7|           8|  311429|  0.627907|\n",
      "|  5529|  305552|  311429|           =|        3|       nM|    IC50|            9|           8|  311429|  0.627907|\n",
      "| 51364|  305859|  311429|           =|     2900|       nM|    IC50|            6|           5|  311429|  0.627907|\n",
      "| 50165|   70187|  249203|           =|        0|       nM|    IC50|           10|           5|  249203| 0.5952381|\n",
      "| 50135|   70187|  249203|           =|        0|       nM|    IC50|            9|           5|  249203| 0.5952381|\n",
      "| 51379|  305995|  309653|           =|      177|       nM|    IC50|            7|           5|  309653|0.53846157|\n",
      "+------+--------+--------+------------+---------+---------+--------+-------------+------------+--------+----------+\n",
      "only showing top 20 rows\n",
      "\n"
     ]
    }
   ],
   "source": [
    "# display data\n",
    "test.orderBy(desc(\"similarity\")).show()"
   ]
  },
  {
   "cell_type": "code",
   "execution_count": 60,
   "metadata": {
    "collapsed": false
   },
   "outputs": [
    {
     "data": {
      "text/plain": [
       "[(u'56293.0',\n",
       "  u'305553',\n",
       "  u'311499',\n",
       "  u'=',\n",
       "  u'470.000000000000000000000000000000',\n",
       "  u'nM',\n",
       "  u'IC50',\n",
       "  u'6.330000000000000000000000000000',\n",
       "  u'8',\n",
       "  u'P06756',\n",
       "  u'MAFPPRRRLRLGPRGLPLLLSGLLLPLCRAFNLDVDSPAEYSGPEGSYFGFAVDFFVPSASSRMFLLVGAPKANTTQPGIVEGGQVLKCDWSSTRRCQPIEFDATGNRDYAKDDPLEFKSHQWFGASVRSKQDKILACAPLYHWRTEMKQEREPVGTCFLQDGTKTVEYAPCRSQDIDADGQGFCQGGFSIDFTKADRVLLGGPGSFYWQGQLISDQVAEIVSKYDPNVYSIKYNNQLATRTAQAIFDDSYLGYSVAVGDFNGDGIDDFVSGVPRAARTLGMVYIYDGKNMSSLYNFTGEQMAAYFGFSVAATDINGDDYADVFIGAPLFMDRGSDGKLQEVGQVSVSLQRASGDFQTTKLNGFEVFARFGSAIAPLGDLDQDGFNDIAIAAPYGGEDKKGIVYIFNGRSTGLNAVPSQILEGQWAARSMPPSFGYSMKGATDIDKNGYPDLIVGAFGVDRAILYRARPVITVNAGLEVYPSILNQDNKTCSLPGTALKVSCFNVRFCLKADGKGVLPRKLNFQVELLLDKLKQKGAIRRALFLYSRSPSHSKNMTISRGGLMQCEELIAYLRDESEFRDKLTPITIFMEYRLDYRTAADTTGLQPILNQFTPANISRQAHILLDCGEDNVCKPKLEVSVDSDQKKIYIGDDNPLTLIVKAQNQGEGAYEAELIVSIPLQADFIGVVRNNEALARLSCAFKTENQTRQVVCDLGNPMKAGTQLLAGLRFSVHQQSEMDTSVKFDLQIQSSNLFDKVSPVVSHKVDLAVLAAVEIRGVSSPDHVFLPIPNWEHKENPETEEDVGPVVQHIYELRNNGPSSFSKAMLHLQWPYKYNNNTLLYILHYDIDGPMNCTSDMEINPLRIKISSLQTTEKNDTVAGQGERDHLITKRDLALSEGDIHTLGCGVAQCLKIVCQVGRLDRGKSAILYVKSLLWTETFMNKENQNHSYSLKSSASFNVIEFPYKNLPIEDITNSTLVTTNVTWGIQPAPMPVPVWVIILAVLAGLLLLAVLVFVMYRMGFFKRVRPPQEEQEREQLQPHENGEGNSET',\n",
       "  u'OC(=O)C[C@H](NC(=O)C1CCN(CC1)C(=O)CCCNC2=NCCN2)c3cnc4ccccc4c3'),\n",
       " (u'55289.0',\n",
       "  u'305552',\n",
       "  u'311499',\n",
       "  u'=',\n",
       "  u'3.600000000000000000000000000000',\n",
       "  u'nM',\n",
       "  u'IC50',\n",
       "  u'8.440000000000000000000000000000',\n",
       "  u'8',\n",
       "  u'P06756',\n",
       "  u'MAFPPRRRLRLGPRGLPLLLSGLLLPLCRAFNLDVDSPAEYSGPEGSYFGFAVDFFVPSASSRMFLLVGAPKANTTQPGIVEGGQVLKCDWSSTRRCQPIEFDATGNRDYAKDDPLEFKSHQWFGASVRSKQDKILACAPLYHWRTEMKQEREPVGTCFLQDGTKTVEYAPCRSQDIDADGQGFCQGGFSIDFTKADRVLLGGPGSFYWQGQLISDQVAEIVSKYDPNVYSIKYNNQLATRTAQAIFDDSYLGYSVAVGDFNGDGIDDFVSGVPRAARTLGMVYIYDGKNMSSLYNFTGEQMAAYFGFSVAATDINGDDYADVFIGAPLFMDRGSDGKLQEVGQVSVSLQRASGDFQTTKLNGFEVFARFGSAIAPLGDLDQDGFNDIAIAAPYGGEDKKGIVYIFNGRSTGLNAVPSQILEGQWAARSMPPSFGYSMKGATDIDKNGYPDLIVGAFGVDRAILYRARPVITVNAGLEVYPSILNQDNKTCSLPGTALKVSCFNVRFCLKADGKGVLPRKLNFQVELLLDKLKQKGAIRRALFLYSRSPSHSKNMTISRGGLMQCEELIAYLRDESEFRDKLTPITIFMEYRLDYRTAADTTGLQPILNQFTPANISRQAHILLDCGEDNVCKPKLEVSVDSDQKKIYIGDDNPLTLIVKAQNQGEGAYEAELIVSIPLQADFIGVVRNNEALARLSCAFKTENQTRQVVCDLGNPMKAGTQLLAGLRFSVHQQSEMDTSVKFDLQIQSSNLFDKVSPVVSHKVDLAVLAAVEIRGVSSPDHVFLPIPNWEHKENPETEEDVGPVVQHIYELRNNGPSSFSKAMLHLQWPYKYNNNTLLYILHYDIDGPMNCTSDMEINPLRIKISSLQTTEKNDTVAGQGERDHLITKRDLALSEGDIHTLGCGVAQCLKIVCQVGRLDRGKSAILYVKSLLWTETFMNKENQNHSYSLKSSASFNVIEFPYKNLPIEDITNSTLVTTNVTWGIQPAPMPVPVWVIILAVLAGLLLLAVLVFVMYRMGFFKRVRPPQEEQEREQLQPHENGEGNSET',\n",
       "  u'OC(=O)C[C@H](NC(=O)C1CCN(CC1)C(=O)CCCNC2=NCCN2)c3cnc4ccccc4c3'),\n",
       " (u'51363.0',\n",
       "  u'305859',\n",
       "  u'311499',\n",
       "  u'=',\n",
       "  u'170.000000000000000000000000000000',\n",
       "  u'nM',\n",
       "  u'IC50',\n",
       "  u'6.770000000000000000000000000000',\n",
       "  u'5',\n",
       "  u'P05106',\n",
       "  u'MRARPRPRPLWATVLALGALAGVGVGGPNICTTRGVSSCQQCLAVSPMCAWCSDEALPLGSPRCDLKENLLKDNCAPESIEFPVSEARVLEDRPLSDKGSGDSSQVTQVSPQRIALRLRPDDSKNFSIQVRQVEDYPVDIYYLMDLSYSMKDDLWSIQNLGTKLATQMRKLTSNLRIGFGAFVDKPVSPYMYISPPEALENPCYDMKTTCLPMFGYKHVLTLTDQVTRFNEEVKKQSVSRNRDAPEGGFDAIMQATVCDEKIGWRNDASHLLVFTTDAKTHIALDGRLAGIVQPNDGQCHVGSDNHYSASTTMDYPSLGLMTEKLSQKNINLIFAVTENVVNLYQNYSELIPGTTVGVLSMDSSNVLQLIVDAYGKIRSKVELEVRDLPEELSLSFNATCLNNEVIPGLKSCMGLKIGDTVSFSIEAKVRGCPQEKEKSFTIKPVGFKDSLIVQVTFDCDCACQAQAEPNSHRCNNGNGTFECGVCRCGPGWLGSQCECSEEDYRPSQQDECSPREGQPVCSQRGECLCGQCVCHSSDFGKITGKYCECDDFSCVRYKGEMCSGHGQCSCGDCLCDSDWTGYYCNCTTRTDTCMSSNGLLCSGRGKCECGSCVCIQPGSYGDTCEKCPTCPDACTFKKECVECKKFDRGALHDENTCNRYCRDEIESVKELKDTGKDAVNCTYKNEDDCVVRFQYYEDSSGKSILYVVEEPECPKGPDILVVLLSVMGAILLIGLAALLIWKLLITIHDRKEFAKFEEERARAKWDTANNPLYKEATSTFTNITYRGT',\n",
       "  u'OC(=O)C[C@H](NC(=O)C1CCN(CC1)C(=O)CCCNC2=NCCN2)c3cnc4ccccc4c3'),\n",
       " (u'49079.0',\n",
       "  u'305552',\n",
       "  u'311499',\n",
       "  u'=',\n",
       "  u'3.600000000000000000000000000000',\n",
       "  u'nM',\n",
       "  u'IC50',\n",
       "  u'8.440000000000000000000000000000',\n",
       "  u'5',\n",
       "  u'P05106',\n",
       "  u'MRARPRPRPLWATVLALGALAGVGVGGPNICTTRGVSSCQQCLAVSPMCAWCSDEALPLGSPRCDLKENLLKDNCAPESIEFPVSEARVLEDRPLSDKGSGDSSQVTQVSPQRIALRLRPDDSKNFSIQVRQVEDYPVDIYYLMDLSYSMKDDLWSIQNLGTKLATQMRKLTSNLRIGFGAFVDKPVSPYMYISPPEALENPCYDMKTTCLPMFGYKHVLTLTDQVTRFNEEVKKQSVSRNRDAPEGGFDAIMQATVCDEKIGWRNDASHLLVFTTDAKTHIALDGRLAGIVQPNDGQCHVGSDNHYSASTTMDYPSLGLMTEKLSQKNINLIFAVTENVVNLYQNYSELIPGTTVGVLSMDSSNVLQLIVDAYGKIRSKVELEVRDLPEELSLSFNATCLNNEVIPGLKSCMGLKIGDTVSFSIEAKVRGCPQEKEKSFTIKPVGFKDSLIVQVTFDCDCACQAQAEPNSHRCNNGNGTFECGVCRCGPGWLGSQCECSEEDYRPSQQDECSPREGQPVCSQRGECLCGQCVCHSSDFGKITGKYCECDDFSCVRYKGEMCSGHGQCSCGDCLCDSDWTGYYCNCTTRTDTCMSSNGLLCSGRGKCECGSCVCIQPGSYGDTCEKCPTCPDACTFKKECVECKKFDRGALHDENTCNRYCRDEIESVKELKDTGKDAVNCTYKNEDDCVVRFQYYEDSSGKSILYVVEEPECPKGPDILVVLLSVMGAILLIGLAALLIWKLLITIHDRKEFAKFEEERARAKWDTANNPLYKEATSTFTNITYRGT',\n",
       "  u'OC(=O)C[C@H](NC(=O)C1CCN(CC1)C(=O)CCCNC2=NCCN2)c3cnc4ccccc4c3')]"
      ]
     },
     "execution_count": 60,
     "metadata": {},
     "output_type": "execute_result"
    }
   ],
   "source": [
    "sampleData.filter(lambda x: x[2] == '311499').collect()"
   ]
  },
  {
   "cell_type": "code",
   "execution_count": 66,
   "metadata": {
    "collapsed": false
   },
   "outputs": [
    {
     "name": "stdout",
     "output_type": "stream",
     "text": [
      "MolRegNo = 309565\n",
      "SMILES = OC(=O)CC(NC(=O)C1CCN(CC1)C(=O)CCCNC2=NCCN2)c3cnc4ccccc4c3\n",
      "Target Componet IDs:\n",
      "  5\n",
      "  8\n"
     ]
    }
   ],
   "source": [
    "# using MACCS fingerprint and Tanimoto\n",
    "test = experiment(testData, 30, molecules, molHelper= MoleculeMACCSHelper, similarityThreshold = 0.5)"
   ]
  },
  {
   "cell_type": "code",
   "execution_count": 67,
   "metadata": {
    "collapsed": false
   },
   "outputs": [
    {
     "name": "stdout",
     "output_type": "stream",
     "text": [
      "+------+--------+--------+------------+---------+---------+--------+-------------+------------+--------+----------+\n",
      "|row_id|assay_id|molregno|std_relation|std_value|std_units|std_type|pchembl_value|component_id|molregno|similarity|\n",
      "+------+--------+--------+------------+---------+---------+--------+-------------+------------+--------+----------+\n",
      "| 55289|  305552|  311499|           =|        4|       nM|    IC50|            8|           8|  311499|       1.0|\n",
      "| 49079|  305552|  311499|           =|        4|       nM|    IC50|            8|           5|  311499|       1.0|\n",
      "| 51363|  305859|  311499|           =|      170|       nM|    IC50|            7|           5|  311499|       1.0|\n",
      "| 56293|  305553|  311499|           =|      470|       nM|    IC50|            6|           8|  311499|       1.0|\n",
      "| 51373|  305995|  309829|           =|     1800|       nM|    IC50|            6|           5|  309829| 0.9516129|\n",
      "| 55257|  305375|  309829|           =|       19|       nM|    IC50|            8|           8|  309829| 0.9516129|\n",
      "| 55258|  305375|  309829|           =|       46|       nM|    IC50|            7|           8|  309829| 0.9516129|\n",
      "| 49047|  305375|  309829|           =|       19|       nM|    IC50|            8|           5|  309829| 0.9516129|\n",
      "| 49048|  305375|  309829|           =|       46|       nM|    IC50|            7|           5|  309829| 0.9516129|\n",
      "| 51374|  305995|  309829|           =|     1810|       nM|    IC50|            6|           5|  309829| 0.9516129|\n",
      "| 50509|   89593|  226092|           =|    25000|       nM|    IC50|            5|           5|  226092| 0.8769231|\n",
      "| 50135|   70187|  249203|           =|        0|       nM|    IC50|            9|           5|  249203|0.83870965|\n",
      "| 50165|   70187|  249203|           =|        0|       nM|    IC50|           10|           5|  249203|0.83870965|\n",
      "| 48815|  214631|  138406|           =|        7|       nM|    IC50|            8|           5|  138406| 0.8333333|\n",
      "| 56706|  230013|  138406|           >|      150|     None|   Ratio|         null|           8|  138406| 0.8333333|\n",
      "| 55025|  214631|  138406|           =|        7|       nM|    IC50|            8|           8|  138406| 0.8333333|\n",
      "| 51705|  230013|  138406|           >|      150|     None|   Ratio|         null|           5|  138406| 0.8333333|\n",
      "| 51375|  305995|  309830|           =|       56|       nM|    IC50|            7|           5|  309830| 0.8309859|\n",
      "| 55259|  305375|  309830|           =|       25|       nM|    IC50|            8|           8|  309830| 0.8309859|\n",
      "| 49049|  305375|  309830|           =|       25|       nM|    IC50|            8|           5|  309830| 0.8309859|\n",
      "+------+--------+--------+------------+---------+---------+--------+-------------+------------+--------+----------+\n",
      "only showing top 20 rows\n",
      "\n"
     ]
    }
   ],
   "source": [
    "# display data\n",
    "test.orderBy(desc(\"similarity\")).show()"
   ]
  },
  {
   "cell_type": "markdown",
   "metadata": {},
   "source": [
    "Here we do some weird stuff to demonstrate how MoleculeHelper class can be inherited to provide new fingerprint and similarity algorithms.  The weirdness is in the fact that the source code in the next cell need to be stored as a python script file and then distributed to all other Yarn nodes via Spark Context."
   ]
  },
  {
   "cell_type": "code",
   "execution_count": 90,
   "metadata": {
    "collapsed": false
   },
   "outputs": [],
   "source": [
    "# test class\n",
    "\n",
    "from moleculehelper import MoleculeHelper\n",
    "from rdkit import Chem\n",
    "from rdkit.Chem import AllChem\n",
    "from rdkit import DataStructs\n",
    "from rdkit.Chem import MACCSkeys\n",
    "\n",
    "class CustomMolHelper(MoleculeHelper):    \n",
    "    \n",
    "    def fingerprint(self, molecule):\n",
    "        return MACCSkeys.GenMACCSKeys(molecule)  \n",
    "    \n",
    "    def similarityAlgorithm(self, otherFingerprint, metric=None):        \n",
    "        return DataStructs.DiceSimilarity(self.getFingerprint(), otherFingerprint)"
   ]
  },
  {
   "cell_type": "code",
   "execution_count": 91,
   "metadata": {
    "collapsed": false
   },
   "outputs": [],
   "source": [
    "# some weird stuff here for testing\n",
    "# MAKE SURE TO RUN THE PREVIOUS CELL BEFORE CALLING THE CODE IN THIS ONE\n",
    "pyFileName = \"customMolHelper.py\"\n",
    "with open(pyFileName, \"w\") as pyFile:\n",
    "    pyFile.write(In[len(In)-2])\n",
    "    \n",
    "sc.addPyFile(pyFileName)\n",
    "\n",
    "import customMolHelper as CMH"
   ]
  },
  {
   "cell_type": "code",
   "execution_count": null,
   "metadata": {
    "collapsed": false
   },
   "outputs": [
    {
     "name": "stdout",
     "output_type": "stream",
     "text": [
      "MolRegNo = 309565\n",
      "SMILES = OC(=O)CC(NC(=O)C1CCN(CC1)C(=O)CCCNC2=NCCN2)c3cnc4ccccc4c3\n",
      "Target Componet IDs:\n",
      "  5\n",
      "  8\n"
     ]
    }
   ],
   "source": [
    "# using MACCS fingerprint and Tanimoto\n",
    "test = experiment(testData, 30, molecules, molHelper=CMH.CustomMolHelper, similarityThreshold = 0.5)\n",
    "test.orderBy(desc(\"similarity\")).show()"
   ]
  },
  {
   "cell_type": "code",
   "execution_count": null,
   "metadata": {
    "collapsed": true
   },
   "outputs": [],
   "source": []
  }
 ],
 "metadata": {
  "kernelspec": {
   "display_name": "Python 2",
   "language": "python",
   "name": "python2"
  },
  "language_info": {
   "codemirror_mode": {
    "name": "ipython",
    "version": 2
   },
   "file_extension": ".py",
   "mimetype": "text/x-python",
   "name": "python",
   "nbconvert_exporter": "python",
   "pygments_lexer": "ipython2",
   "version": "2.7.12"
  }
 },
 "nbformat": 4,
 "nbformat_minor": 2
}
