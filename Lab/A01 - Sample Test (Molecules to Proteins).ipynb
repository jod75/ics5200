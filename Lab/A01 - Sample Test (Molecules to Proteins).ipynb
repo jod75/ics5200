{
 "cells": [
  {
   "cell_type": "markdown",
   "metadata": {},
   "source": [
    "# Test using sample data\n",
    "\n",
    "In this notebook, we get a sample data from ChEMBL and using an unseen molecule, the program suggests putative protein targets.\n",
    "\n",
    "For this notebook to run correctly, it needs to be running using _pyspark_ kernel.  This is done by starting Jupyter notebook using the following command line statement:\n",
    "\n",
    "```bash\n",
    "PYSPARK_DRIVER_PYTHON=\"jupyter\" PYSPARK_DRIVER_PYTHON_OPTS=\"notebook\" pyspark --master yarn --verbose\n",
    "```\n",
    "\n",
    "- `--master yarn` instructs pyspark to run in YARN mode.  Leaving this out runs in standalone mode (just one node).\n",
    "- `--verbose` provides more details in pyspark console.  This is useful for debugging and to understand what is going on.\n",
    "\n",
    "Monitor cluster tasks from [Personal Hadoop Dashboard](http://hadoop1:8088/cluster).\n",
    "\n",
    "Information about _pyspark packages_ is found at [Apache Spark pyspark homepage](http://spark.apache.org/docs/latest/api/python/pyspark.html \"pyspark packages\").\n",
    "\n",
    "Python API docs are available from [here](https://spark.apache.org/docs/1.6.2/api/python/index.html)."
   ]
  },
  {
   "cell_type": "code",
   "execution_count": 1,
   "metadata": {
    "collapsed": true
   },
   "outputs": [],
   "source": [
    "# set Spark Context logging level to info - this is useful for debugging purposes\n",
    "sc.setLogLevel(\"INFO\")"
   ]
  },
  {
   "cell_type": "markdown",
   "metadata": {},
   "source": [
    "The dependencies in the cell below are used by Spark workers, thus they need to be available by all cluster nodes.  This is done by using Spark Context's `addPyFile()`. "
   ]
  },
  {
   "cell_type": "code",
   "execution_count": 2,
   "metadata": {
    "collapsed": false
   },
   "outputs": [],
   "source": [
    "sc.addPyFile(\"moleculehelper.py\") # 300 - Ligand framework\n",
    "sc.addPyFile(\"pythonhelper.py\")   # 001 - Python Helper.ipynb"
   ]
  },
  {
   "cell_type": "code",
   "execution_count": 3,
   "metadata": {
    "collapsed": false
   },
   "outputs": [],
   "source": [
    "from pyspark.sql.types import *\n",
    "from pyspark.sql.functions import col, desc\n",
    "\n",
    "from rdkit import Chem\n",
    "from rdkit.Chem import AllChem\n",
    "from rdkit import DataStructs\n",
    "from rdkit.Chem import MACCSkeys\n",
    "\n",
    "from moleculehelper import *\n",
    "from chemblhelper import ChEMBLHelper\n",
    "from pythonhelper import *\n",
    "from hdfshelper import HDFSHelper\n",
    "\n",
    "import os.path"
   ]
  },
  {
   "cell_type": "markdown",
   "metadata": {},
   "source": [
    "## Get data from ChEMBL\n",
    "\n",
    "### All Data (sample)\n",
    "\n",
    "In this setup, ChEMBL database is downloaded and attached to a MySQL server running at address (192.168.151.11).  Any ChEMBL related methods are encapsulated in a Python helper class, named `ChEMBLHelper`.  This class is defined in [`000 - ChEMBL Helper.ipynb`](000%20-%20ChEMBL%20Helper.ipynb).  It takes care to connect to MySQL server, get the required data and return is in the different formats required.  See `ChEMBLHelper` Jupyter Notebook for more detail, especially the `__doc__` documentation for information about the methods and how they work.  See [PEP-0257](https://www.python.org/dev/peps/pep-0257/) for semantic and conventions associated with Python docstrings.\n",
    "\n",
    "__NOTE__: MySQL connection string is hardcoded in the mentioned helper class."
   ]
  },
  {
   "cell_type": "code",
   "execution_count": 4,
   "metadata": {
    "collapsed": false
   },
   "outputs": [],
   "source": [
    "# get small dataset from ChEMBL\n",
    "chemblhelper = ChEMBLHelper()\n",
    "\n",
    "hdfsServer = \"http://hadoop1:50070\"                          # hdfs path\n",
    "datasetCount = 100000                                        # dataset count of bindings from ChEMBL\n",
    "datasetTSVFilename = \"sample\" + str(datasetCount) + \".tsv\"   # file with sample data\n",
    "hdfsDatasetFilename = os.path.join(\"/user/hduser\", datasetTSVFilename)\n",
    "\n",
    "# check if the dataset file exists in hdfs and if it does not, then load data from ChEMBL database\n",
    "if not HDFSHelper.fileExists(hdfsServer, hdfsDatasetFilename):\n",
    "    # get data from ChEMBL and stores the file to local dfs\n",
    "    chemblhelper.saveBindingsToTSV(datasetTSVFilename, datasetCount) \n",
    "    # upload data to hdfs so that it is accessbile from all cluster worker nodes\n",
    "    HDFSHelper.putFile(hdfsServer, datasetTSVFilename, hdfsDatasetFilename)"
   ]
  },
  {
   "cell_type": "code",
   "execution_count": 5,
   "metadata": {
    "collapsed": false
   },
   "outputs": [
    {
     "data": {
      "text/plain": [
       "100000"
      ]
     },
     "execution_count": 5,
     "metadata": {},
     "output_type": "execute_result"
    }
   ],
   "source": [
    "# create an RDD with all data\n",
    "dataRDD = sc.textFile(hdfsDatasetFilename) \\\n",
    "            .map(lambda line: line.split(\"\\t\")) \n",
    "\n",
    "# convert each line (currently an list) to a tuple.  This makes it easier to manipulate \n",
    "# the data, especially to convert to DataFrames\n",
    "dataRDD = dataRDD.map(lambda l: tuple(l))\n",
    "\n",
    "dataRDD.count()"
   ]
  },
  {
   "cell_type": "code",
   "execution_count": 6,
   "metadata": {
    "collapsed": false
   },
   "outputs": [
    {
     "data": {
      "text/plain": [
       "[(u'1.0',\n",
       "  u'1459233',\n",
       "  u'222065',\n",
       "  u'=',\n",
       "  u'0.900000000000000000000000000000',\n",
       "  u'nM',\n",
       "  u'Ki',\n",
       "  u'9.050000000000000000000000000000',\n",
       "  u'1',\n",
       "  u'O09028',\n",
       "  u'MSYSLYLAFVCLNLLAQRMCIQGNQFNVEVSRSDKLSLPGFENLTAGYNKFLRPNFGGDPVRIALTLDIASISSISESNMDYTATIYLRQRWTDPRLVFEGNKSFTLDARLVEFLWVPDTYIVESKKSFLHEVTVGNRLIRLFSNGTVLYALRITTTVTCNMDLSKYPMDTQTCKLQLESWGYDGNDVEFSWLRGNDSVRGLENLRLAQYTIQQYFTLVTVSQQETGNYTRLVLQFELRRNVLYFILETYVPSTFLVVLSWVSFWISLESVPARTCIGVTTVLSMTTLMIGSRTSLPNTNCFIKAIDVYLGICFSFVFGALLEYAVAHYSSLQQMAVKDRGPAKDSEEVNITNIINSSISSFKRKISFASIEISGDNVNYSDLTMKASDKFKFVFREKIGRIIDYFTIQNPSNVDRYSKLLFPLIFMLANVFYWAYYMYF',\n",
       "  u'Cc1ccc2OC(=CC(=O)c2c1)c3cc(Br)ccc3O'),\n",
       " (u'2.0',\n",
       "  u'1459233',\n",
       "  u'86147',\n",
       "  u'=',\n",
       "  u'1.500000000000000000000000000000',\n",
       "  u'nM',\n",
       "  u'Ki',\n",
       "  u'8.820000000000000000000000000000',\n",
       "  u'1',\n",
       "  u'O09028',\n",
       "  u'MSYSLYLAFVCLNLLAQRMCIQGNQFNVEVSRSDKLSLPGFENLTAGYNKFLRPNFGGDPVRIALTLDIASISSISESNMDYTATIYLRQRWTDPRLVFEGNKSFTLDARLVEFLWVPDTYIVESKKSFLHEVTVGNRLIRLFSNGTVLYALRITTTVTCNMDLSKYPMDTQTCKLQLESWGYDGNDVEFSWLRGNDSVRGLENLRLAQYTIQQYFTLVTVSQQETGNYTRLVLQFELRRNVLYFILETYVPSTFLVVLSWVSFWISLESVPARTCIGVTTVLSMTTLMIGSRTSLPNTNCFIKAIDVYLGICFSFVFGALLEYAVAHYSSLQQMAVKDRGPAKDSEEVNITNIINSSISSFKRKISFASIEISGDNVNYSDLTMKASDKFKFVFREKIGRIIDYFTIQNPSNVDRYSKLLFPLIFMLANVFYWAYYMYF',\n",
       "  u'[O-][N+](=O)c1cccc(c1)C2=CC(=O)c3cc(Br)ccc3O2')]"
      ]
     },
     "execution_count": 6,
     "metadata": {},
     "output_type": "execute_result"
    }
   ],
   "source": [
    "dataRDD.take(2)"
   ]
  },
  {
   "cell_type": "markdown",
   "metadata": {},
   "source": [
    "### Take a sample for testing\n",
    "Take random 1% out molecules from dataset.  This will later be used to test the solution.  "
   ]
  },
  {
   "cell_type": "code",
   "execution_count": 7,
   "metadata": {
    "collapsed": false
   },
   "outputs": [],
   "source": [
    "moleculesSample = dataRDD.map(lambda t: long(t[2])).distinct().sample(withReplacement=False, seed=1, fraction=0.01)"
   ]
  },
  {
   "cell_type": "code",
   "execution_count": 8,
   "metadata": {
    "collapsed": false
   },
   "outputs": [],
   "source": [
    "# broadcast value as a list of lonf numbers so that mapping is faster\n",
    "moleculesSampleBV = sc.broadcast(moleculesSample.collect())"
   ]
  },
  {
   "cell_type": "code",
   "execution_count": 9,
   "metadata": {
    "collapsed": false
   },
   "outputs": [],
   "source": [
    "# test data is reserved as unseen knowledge\n",
    "testData = dataRDD.filter(lambda t: long(t[2]) in moleculesSampleBV.value)"
   ]
  },
  {
   "cell_type": "code",
   "execution_count": 10,
   "metadata": {
    "collapsed": true
   },
   "outputs": [],
   "source": [
    "# sample data is the known dataset\n",
    "sampleData = dataRDD.subtract(testData)"
   ]
  },
  {
   "cell_type": "code",
   "execution_count": 11,
   "metadata": {
    "collapsed": false
   },
   "outputs": [
    {
     "name": "stdout",
     "output_type": "stream",
     "text": [
      "dataRDD count = 100000\n",
      "sampleData count (98655) + testData count (1345) = 100000\n",
      "test sample ratio = 0.01345\n"
     ]
    }
   ],
   "source": [
    "# cross check data\n",
    "dataRDDCount = dataRDD.count()\n",
    "sampleDataCount = sampleData.count()\n",
    "testDataCount = testData.count()\n",
    "\n",
    "print \"dataRDD count = \" + str(dataRDDCount)\n",
    "print \"sampleData count (\" + str(sampleDataCount) + \\\n",
    "        \") + testData count (\" + str(testDataCount) + \\\n",
    "        \") = \" + str(sampleDataCount + testDataCount)\n",
    "print \"test sample ratio = \" + str((1.0 * testDataCount) / dataRDDCount)"
   ]
  },
  {
   "cell_type": "code",
   "execution_count": null,
   "metadata": {
    "collapsed": true
   },
   "outputs": [],
   "source": [
    "testData.filter(lambda t: t[2] == '1021201').collect()\n"
   ]
  },
  {
   "cell_type": "markdown",
   "metadata": {},
   "source": [
    "### Molecules"
   ]
  },
  {
   "cell_type": "code",
   "execution_count": 12,
   "metadata": {
    "collapsed": false
   },
   "outputs": [
    {
     "data": {
      "text/plain": [
       "58817"
      ]
     },
     "execution_count": 12,
     "metadata": {},
     "output_type": "execute_result"
    }
   ],
   "source": [
    "# each line need to be converted to a tuple so that later it is converted into a DF\n",
    "moleculesRDD = sampleData.map(lambda t: (long(t[2]),str(t[11]))).distinct()\n",
    "\n",
    "# binding schema\n",
    "moleculesSchema = StructType([StructField(\"molregno\", IntegerType(), False),\n",
    "                              StructField(\"canonical_smiles\", StringType(), False)])\n",
    "\n",
    "# convert RDD to DataFrame - faster and more memory efficient\n",
    "molecules = sqlContext.createDataFrame(moleculesRDD, moleculesSchema)\n",
    "\n",
    "molecules.count()"
   ]
  },
  {
   "cell_type": "code",
   "execution_count": 13,
   "metadata": {
    "collapsed": false
   },
   "outputs": [
    {
     "name": "stdout",
     "output_type": "stream",
     "text": [
      "+--------+------------------------------------------------------------+\n",
      "|molregno|canonical_smiles                                            |\n",
      "+--------+------------------------------------------------------------+\n",
      "|1611015 |COc1ccc(cc1OC)c2cnc3[nH]cc(c4ccc(OC)c(OC)c4)c3c2            |\n",
      "|792313  |Oc1ccc(cc1)N2CCN(CC2)C(=O)CCSc3ccc(Cl)cc3                   |\n",
      "|1615431 |Cc1c(O)cccc1c2nc3c(OCC4CCCCC4)nc(N)nc3[nH]2                 |\n",
      "|846502  |C[C@H]1[C@@H]2CC[C@]3(C)[C@@H]([C@H]2OC1=O)[C@](C)(O)C=CC3=O|\n",
      "|1005961 |COc1cccc(c1)c2noc(N)c2C#N                                   |\n",
      "|244372  |NCCc1ccc(cc1)C(=O)NCC(=O)N2CCN(CC(=O)O)C(=O)C2              |\n",
      "|830477  |C[C@H](NC(=O)OC(C)(C)C)c1oc(SCc2ccc(Cl)cc2Cl)nn1            |\n",
      "|361584  |CCCOC1(N(CCO)C(=O)c2ccccc12)c3ccccc3                        |\n",
      "|602426  |Nc1c(oc2ccc(Br)cc12)C(=O)c3ccccc3                           |\n",
      "|940541  |Cc1cccc(C)c1OCc2onc(c2)C(=O)N3CCN(CC3)c4ccc(F)cc4           |\n",
      "+--------+------------------------------------------------------------+\n",
      "only showing top 10 rows\n",
      "\n"
     ]
    }
   ],
   "source": [
    "molecules.show(10, truncate=False)"
   ]
  },
  {
   "cell_type": "markdown",
   "metadata": {},
   "source": [
    "### Bindings"
   ]
  },
  {
   "cell_type": "code",
   "execution_count": 14,
   "metadata": {
    "collapsed": false
   },
   "outputs": [],
   "source": [
    "bindingsRDD = sampleData.map(lambda t: (long(t[0].rstrip(\".0\")),\n",
    "                                        long(t[1]),                                      \n",
    "                                        long(t[2]),\n",
    "                                        str(t[3]),\n",
    "                                        PythonHelper.getDecimal(t[4]),\n",
    "                                        str(t[5]),\n",
    "                                        str(t[6]),\n",
    "                                        PythonHelper.getDecimal(t[7]),\n",
    "                                        long(t[8]))\n",
    "                            ) # each line need to be converted to a tuple so that later it is converted into a DF\n",
    "\n",
    "# binding schema\n",
    "bindingsSchema = StructType([StructField(\"row_id\", LongType(), False),\n",
    "                             StructField(\"assay_id\", LongType(), False),                            \n",
    "                             StructField(\"molregno\", LongType(), False),\n",
    "                             StructField(\"std_relation\", StringType(), True),\n",
    "                             StructField(\"std_value\", DecimalType(), True),\n",
    "                             StructField(\"std_units\", StringType(), True),\n",
    "                             StructField(\"std_type\", StringType(), True),\n",
    "                             StructField(\"pchembl_value\", DecimalType(), True),\n",
    "                             StructField(\"component_id\", LongType(), False)])\n",
    "\n",
    "# convert RDD to DataFrame - faster and more memory efficient\n",
    "bindings = sqlContext.createDataFrame(bindingsRDD, bindingsSchema)"
   ]
  },
  {
   "cell_type": "code",
   "execution_count": 15,
   "metadata": {
    "collapsed": false
   },
   "outputs": [
    {
     "data": {
      "text/plain": [
       "98655"
      ]
     },
     "execution_count": 15,
     "metadata": {},
     "output_type": "execute_result"
    }
   ],
   "source": [
    "bindings.count()"
   ]
  },
  {
   "cell_type": "code",
   "execution_count": 16,
   "metadata": {
    "collapsed": false
   },
   "outputs": [
    {
     "name": "stdout",
     "output_type": "stream",
     "text": [
      "+------+--------+--------+------------+---------+---------+-----------------+-------------+------------+\n",
      "|row_id|assay_id|molregno|std_relation|std_value|std_units|         std_type|pchembl_value|component_id|\n",
      "+------+--------+--------+------------+---------+---------+-----------------+-------------+------------+\n",
      "| 91551|  804325|  202808|           =|     5500|       nM|             IC50|            5|          43|\n",
      "| 67283|  887805|  425081|           =|       79|        %|Residual Activity|         null|          35|\n",
      "| 75305|  688258| 1697408|           =|     3548|       nM|          Potency|            5|          40|\n",
      "| 14823|  688546| 1021201|           =|    12589|       nM|          Potency|            5|           3|\n",
      "| 14284|  688546|  757723|           =|    31623|       nM|          Potency|            5|           3|\n",
      "+------+--------+--------+------------+---------+---------+-----------------+-------------+------------+\n",
      "only showing top 5 rows\n",
      "\n"
     ]
    }
   ],
   "source": [
    "bindings.show(5)"
   ]
  },
  {
   "cell_type": "markdown",
   "metadata": {},
   "source": [
    "### Proteins"
   ]
  },
  {
   "cell_type": "code",
   "execution_count": 17,
   "metadata": {
    "collapsed": false
   },
   "outputs": [
    {
     "data": {
      "text/plain": [
       "46"
      ]
     },
     "execution_count": 17,
     "metadata": {},
     "output_type": "execute_result"
    }
   ],
   "source": [
    "# each line need to be converted to a tuple so that later it is converted into a DF\n",
    "proteinsRDD = sampleData.map(lambda t: (long(t[8]),str(t[9]),str(t[10]))).distinct()\n",
    "\n",
    "# binding schema\n",
    "proteinsSchema = StructType([StructField(\"component_id\", LongType(), False),\n",
    "                             StructField(\"accession\", StringType(), True),\n",
    "                             StructField(\"sequence\", StringType(), False)])\n",
    "\n",
    "# convert RDD to DataFrame - faster and more memory efficient\n",
    "proteins = sqlContext.createDataFrame(proteinsRDD, proteinsSchema)\n",
    "\n",
    "proteins.count()"
   ]
  },
  {
   "cell_type": "code",
   "execution_count": 18,
   "metadata": {
    "collapsed": false
   },
   "outputs": [
    {
     "name": "stdout",
     "output_type": "stream",
     "text": [
      "+------------+---------+--------------------+\n",
      "|component_id|accession|            sequence|\n",
      "+------------+---------+--------------------+\n",
      "|          25|   P15823|MNPDLDTGHNTSAPAHW...|\n",
      "|          46|   P43681|MELGGPGAPRLLPPLLL...|\n",
      "|          41|   P30191|MLLLLPWLFSLLWIENA...|\n",
      "|          42|   P30926|MRRAPSLVLFFLVALCG...|\n",
      "|           3|   P04637|MEEPQSDPSVEPPLSQE...|\n",
      "|          16|   P11230|MTPGALLMLLGALGAPL...|\n",
      "|           4|   P04757|MGVVLLPPPLSMLMLVL...|\n",
      "|           2|   P02708|MEPWPLLLLFSLCSAGL...|\n",
      "|          30|   P20236|MITTQMWHFYVTRVGLL...|\n",
      "|          22|   P14635|MALRVTRNSKINAENKA...|\n",
      "+------------+---------+--------------------+\n",
      "only showing top 10 rows\n",
      "\n"
     ]
    }
   ],
   "source": [
    "proteins.show(10)"
   ]
  },
  {
   "cell_type": "markdown",
   "metadata": {},
   "source": [
    "## Run PySpark Jobs\n",
    "\n",
    "In the next section, we will run a number of Spark jobs to get Molecule similarities"
   ]
  },
  {
   "cell_type": "code",
   "execution_count": 19,
   "metadata": {
    "collapsed": true
   },
   "outputs": [],
   "source": [
    "# this must run on the main thread\n",
    "def findSimilarMolecules(querySmiles, knownMolecules, molHelper = MoleculeHelper, similarityThreshold = 0.85):\n",
    "    \"\"\" Returns an RDD with similar molecules.\n",
    "    \"\"\"\n",
    "    \n",
    "    # step 1 - create a molecule helper class for each molecule, this will take\n",
    "    #          more memory but will increase computation efficiency\n",
    "    queryMol = dict()\n",
    "    queryMol.update({0: querySmiles})\n",
    "    queryRDD = sc.parallelize(queryMol).map(lambda k:(k, molHelper(queryMol[k])))\n",
    "    mols = knownMolecules.rdd.map(lambda (k, v):(k, molHelper(v)))\n",
    "\n",
    "    sm = mols.cartesian(queryRDD) \\\n",
    "             .map(lambda ((k1,v1),(k2,v2)): (k1, float(v1.similarity(v2)))) \\\n",
    "             .filter(lambda (k1, v): v >= similarityThreshold)    \n",
    "            \n",
    "    simSchema = StructType([StructField(\"molregno\", LongType(), False),\n",
    "                            #StructField(\"queryMol\", LongType(), False),\n",
    "                            StructField(\"similarity\", FloatType(), False)])\n",
    "\n",
    "    sim = sqlContext.createDataFrame(sm, simSchema)\n",
    "    \n",
    "    return sim"
   ]
  },
  {
   "cell_type": "code",
   "execution_count": 20,
   "metadata": {
    "collapsed": false
   },
   "outputs": [],
   "source": [
    "def getBindings(similarMolecules):\n",
    "    return bindings.join(similarMolecules, bindings.molregno == similarMolecules.molregno)"
   ]
  },
  {
   "cell_type": "code",
   "execution_count": 21,
   "metadata": {
    "collapsed": false
   },
   "outputs": [
    {
     "data": {
      "text/plain": [
       "[(u'91551.0',\n",
       "  u'804325',\n",
       "  u'202808',\n",
       "  u'=',\n",
       "  u'5500.000000000000000000000000000000',\n",
       "  u'nM',\n",
       "  u'IC50',\n",
       "  u'5.260000000000000000000000000000',\n",
       "  u'43',\n",
       "  u'P32297',\n",
       "  u'MGSGPLSLPLALSPPRLLLLLLLSLLPVARASEAEHRLFERLFEDYNEIIRPVANVSDPVIIHFEVSMSQLVKVDEVNQIMETNLWLKQIWNDYKLKWNPSDYGGAEFMRVPAQKIWKPDIVLYNNAVGDFQVDDKTKALLKYTGEVTWIPPAIFKSSCKIDVTYFPFDYQNCTMKFGSWSYDKAKIDLVLIGSSMNLKDYWESGEWAIIKAPGYKHDIKYNCCEEIYPDITYSLYIRRLPLFYTINLIIPCLLISFLTVLVFYLPSDCGEKVTLCISVLLSLTVFLLVITETIPSTSLVIPLIGEYLLFTMIFVTLSIVITVFVLNVHYRTPTTHTMPSWVKTVFLNLLPRVMFMTRPTSNEGNAQKPRPLYGAELSNLNCFSRAESKGCKEGYPCQDGMCGYCHHRRIKISNFSANLTRSSSSESVDAVLSLSALSPEIKEAIQSVKYIAENMKAQNEAKEIQDDWKYVAMVIDRIFLWVFTLVCILGTAGLFLQPLMAREDA',\n",
       "  u'FC(F)(F)c1ccccc1C(=O)OCC2CCCN(CCCc3ccccc3)C2'),\n",
       " (u'67283.0',\n",
       "  u'887805',\n",
       "  u'425081',\n",
       "  u'=',\n",
       "  u'79.000000000000000000000000000000',\n",
       "  u'%',\n",
       "  u'Residual Activity',\n",
       "  u'None',\n",
       "  u'35',\n",
       "  u'P24864',\n",
       "  u'MPRERRERDAKERDTMKEDGGAEFSARSRKRKANVTVFLQDPDEEMAKIDRTARDQCGSQPWDNNAVCADPCSLIPTPDKEDDDRVYPNSTCKPRIIAPSRGSPLPVLSWANREEVWKIMLNKEKTYLRDQHFLEQHPLLQPKMRAILLDWLMEVCEVYKLHRETFYLAQDFFDRYMATQENVVKTLLQLIGISSLFIAAKLEEIYPPKLHQFAYVTDGACSGDEILTMELMIMKALKWRLSPLTIVSWLNVYMQVAYLNDLHEVLLPQYPQQIFIQIAELLDLCVLDVDCLEFPYGILAASALYHFSSSELMQKVSGYQWCDIENCVKWMVPFAMVIRETGSSKLKHFRGVADEDAHNIQTHRDSLDLLDKARAKKAMLSEQNRASPLPSGLLTPPQSGKKQSSGPEMA',\n",
       "  u'NC(=O)Nc1sc(cc1C(=O)N)c2ccc(F)cc2'),\n",
       " (u'75305.0',\n",
       "  u'688258',\n",
       "  u'1697408',\n",
       "  u'=',\n",
       "  u'3548.100000000000000000000000000000',\n",
       "  u'nM',\n",
       "  u'Potency',\n",
       "  u'5.450000000000000000000000000000',\n",
       "  u'40',\n",
       "  u'P28482',\n",
       "  u'MAAAAAAGAGPEMVRGQVFDVGPRYTNLSYIGEGAYGMVCSAYDNVNKVRVAIKKISPFEHQTYCQRTLREIKILLRFRHENIIGINDIIRAPTIEQMKDVYIVQDLMETDLYKLLKTQHLSNDHICYFLYQILRGLKYIHSANVLHRDLKPSNLLLNTTCDLKICDFGLARVADPDHDHTGFLTEYVATRWYRAPEIMLNSKGYTKSIDIWSVGCILAEMLSNRPIFPGKHYLDQLNHILGILGSPSQEDLNCIINLKARNYLLSLPHKNKVPWNRLFPNADSKALDLLDKMLTFNPHKRIEVEQALAHPYLEQYYDPSDEPIAEAPFKFDMELDDLPKEKLKELIFEETARFQPGYRS',\n",
       "  u'COC(=O)c1ccc(\\\\C=N\\\\N2C(N(CC2=O)C(C)C)c3ccc(cc3)C(=O)OC)cc1'),\n",
       " (u'14823.0',\n",
       "  u'688546',\n",
       "  u'1021201',\n",
       "  u'=',\n",
       "  u'12589.300000000000000000000000000000',\n",
       "  u'nM',\n",
       "  u'Potency',\n",
       "  u'4.900000000000000000000000000000',\n",
       "  u'3',\n",
       "  u'P04637',\n",
       "  u'MEEPQSDPSVEPPLSQETFSDLWKLLPENNVLSPLPSQAMDDLMLSPDDIEQWFTEDPGPDEAPRMPEAAPPVAPAPAAPTPAAPAPAPSWPLSSSVPSQKTYQGSYGFRLGFLHSGTAKSVTCTYSPALNKMFCQLAKTCPVQLWVDSTPPPGTRVRAMAIYKQSQHMTEVVRRCPHHERCSDSDGLAPPQHLIRVEGNLRVEYLDDRNTFRHSVVVPYEPPEVGSDCTTIHYNYMCNSSCMGGMNRRPILTIITLEDSSGNLLGRNSFEVRVCACPGRDRRTEEENLRKKGEPHHELPPGSTKRALPNNTSSSPQPKKKPLDGEYFTLQIRGRERFEMFRELNEALELKDAQAGKEPGGSRAHSSHLKSKKGQSTSRHKKLMFKTEGPDSD',\n",
       "  u'COC(=O)c1ccccc1NC(=O)CN2C(=O)N(CCCC(=O)NCc3ccccc3Cl)C(=O)c4ccccc24'),\n",
       " (u'14284.0',\n",
       "  u'688546',\n",
       "  u'757723',\n",
       "  u'=',\n",
       "  u'31622.800000000000000000000000000000',\n",
       "  u'nM',\n",
       "  u'Potency',\n",
       "  u'4.500000000000000000000000000000',\n",
       "  u'3',\n",
       "  u'P04637',\n",
       "  u'MEEPQSDPSVEPPLSQETFSDLWKLLPENNVLSPLPSQAMDDLMLSPDDIEQWFTEDPGPDEAPRMPEAAPPVAPAPAAPTPAAPAPAPSWPLSSSVPSQKTYQGSYGFRLGFLHSGTAKSVTCTYSPALNKMFCQLAKTCPVQLWVDSTPPPGTRVRAMAIYKQSQHMTEVVRRCPHHERCSDSDGLAPPQHLIRVEGNLRVEYLDDRNTFRHSVVVPYEPPEVGSDCTTIHYNYMCNSSCMGGMNRRPILTIITLEDSSGNLLGRNSFEVRVCACPGRDRRTEEENLRKKGEPHHELPPGSTKRALPNNTSSSPQPKKKPLDGEYFTLQIRGRERFEMFRELNEALELKDAQAGKEPGGSRAHSSHLKSKKGQSTSRHKKLMFKTEGPDSD',\n",
       "  u'Cc1ccc(cc1)N2C(c3ccc(Cl)cc3)c4c(C)n[nH]c4C2=O'),\n",
       " (u'72527.0',\n",
       "  u'424976',\n",
       "  u'369315',\n",
       "  u'=',\n",
       "  u'20.000000000000000000000000000000',\n",
       "  u'%',\n",
       "  u'Inhibition',\n",
       "  u'None',\n",
       "  u'37',\n",
       "  u'P27361',\n",
       "  u'MAAAAAQGGGGGEPRRTEGVGPGVPGEVEMVKGQPFDVGPRYTQLQYIGEGAYGMVSSAYDHVRKTRVAIKKISPFEHQTYCQRTLREIQILLRFRHENVIGIRDILRASTLEAMRDVYIVQDLMETDLYKLLKSQQLSNDHICYFLYQILRGLKYIHSANVLHRDLKPSNLLINTTCDLKICDFGLARIADPEHDHTGFLTEYVATRWYRAPEIMLNSKGYTKSIDIWSVGCILAEMLSNRPIFPGKHYLDQLNHILGILGSPSQEDLNCIINMKARNYLQSLPSKTKVAWAKLFPKSDSKALDLLDRMLTFNPNKRITVEEALAHPYLEQYYDPTDEPVAEEPFTFAMELDDLPKERLKELIFQETARFQPGVLEAP',\n",
       "  u'[O-][N+](=O)c1ccc(NC(=O)CCCC(=O)OCC#C)c(Cl)c1'),\n",
       " (u'28080.0',\n",
       "  u'737623',\n",
       "  u'763167',\n",
       "  u'None',\n",
       "  u'35481.300000000000000000000000000000',\n",
       "  u'nM',\n",
       "  u'Potency',\n",
       "  u'None',\n",
       "  u'3',\n",
       "  u'P04637',\n",
       "  u'MEEPQSDPSVEPPLSQETFSDLWKLLPENNVLSPLPSQAMDDLMLSPDDIEQWFTEDPGPDEAPRMPEAAPPVAPAPAAPTPAAPAPAPSWPLSSSVPSQKTYQGSYGFRLGFLHSGTAKSVTCTYSPALNKMFCQLAKTCPVQLWVDSTPPPGTRVRAMAIYKQSQHMTEVVRRCPHHERCSDSDGLAPPQHLIRVEGNLRVEYLDDRNTFRHSVVVPYEPPEVGSDCTTIHYNYMCNSSCMGGMNRRPILTIITLEDSSGNLLGRNSFEVRVCACPGRDRRTEEENLRKKGEPHHELPPGSTKRALPNNTSSSPQPKKKPLDGEYFTLQIRGRERFEMFRELNEALELKDAQAGKEPGGSRAHSSHLKSKKGQSTSRHKKLMFKTEGPDSD',\n",
       "  u'Cc1cc(\\\\C=C\\\\2/Cc3ccccc3C2=O)c(C)n1c4ccccc4'),\n",
       " (u'85019.0',\n",
       "  u'688293',\n",
       "  u'786381',\n",
       "  u'=',\n",
       "  u'12589.300000000000000000000000000000',\n",
       "  u'nM',\n",
       "  u'Potency',\n",
       "  u'4.900000000000000000000000000000',\n",
       "  u'40',\n",
       "  u'P28482',\n",
       "  u'MAAAAAAGAGPEMVRGQVFDVGPRYTNLSYIGEGAYGMVCSAYDNVNKVRVAIKKISPFEHQTYCQRTLREIKILLRFRHENIIGINDIIRAPTIEQMKDVYIVQDLMETDLYKLLKTQHLSNDHICYFLYQILRGLKYIHSANVLHRDLKPSNLLLNTTCDLKICDFGLARVADPDHDHTGFLTEYVATRWYRAPEIMLNSKGYTKSIDIWSVGCILAEMLSNRPIFPGKHYLDQLNHILGILGSPSQEDLNCIINLKARNYLLSLPHKNKVPWNRLFPNADSKALDLLDKMLTFNPHKRIEVEQALAHPYLEQYYDPSDEPIAEAPFKFDMELDDLPKEKLKELIFEETARFQPGYRS',\n",
       "  u'COC(=O)C1=CN(CC=C)c2ccc(cc2C1=O)S(=O)(=O)N3CCC(C)CC3'),\n",
       " (u'85863.0',\n",
       "  u'688293',\n",
       "  u'868708',\n",
       "  u'=',\n",
       "  u'19952.600000000000000000000000000000',\n",
       "  u'nM',\n",
       "  u'Potency',\n",
       "  u'4.700000000000000000000000000000',\n",
       "  u'40',\n",
       "  u'P28482',\n",
       "  u'MAAAAAAGAGPEMVRGQVFDVGPRYTNLSYIGEGAYGMVCSAYDNVNKVRVAIKKISPFEHQTYCQRTLREIKILLRFRHENIIGINDIIRAPTIEQMKDVYIVQDLMETDLYKLLKTQHLSNDHICYFLYQILRGLKYIHSANVLHRDLKPSNLLLNTTCDLKICDFGLARVADPDHDHTGFLTEYVATRWYRAPEIMLNSKGYTKSIDIWSVGCILAEMLSNRPIFPGKHYLDQLNHILGILGSPSQEDLNCIINLKARNYLLSLPHKNKVPWNRLFPNADSKALDLLDKMLTFNPHKRIEVEQALAHPYLEQYYDPSDEPIAEAPFKFDMELDDLPKEKLKELIFEETARFQPGYRS',\n",
       "  u'C(c1cccs1)c2nn3c(nnc3s2)c4[nH]nc5CCCc45'),\n",
       " (u'29161.0',\n",
       "  u'737623',\n",
       "  u'726617',\n",
       "  u'None',\n",
       "  u'10000.000000000000000000000000000000',\n",
       "  u'nM',\n",
       "  u'Potency',\n",
       "  u'None',\n",
       "  u'3',\n",
       "  u'P04637',\n",
       "  u'MEEPQSDPSVEPPLSQETFSDLWKLLPENNVLSPLPSQAMDDLMLSPDDIEQWFTEDPGPDEAPRMPEAAPPVAPAPAAPTPAAPAPAPSWPLSSSVPSQKTYQGSYGFRLGFLHSGTAKSVTCTYSPALNKMFCQLAKTCPVQLWVDSTPPPGTRVRAMAIYKQSQHMTEVVRRCPHHERCSDSDGLAPPQHLIRVEGNLRVEYLDDRNTFRHSVVVPYEPPEVGSDCTTIHYNYMCNSSCMGGMNRRPILTIITLEDSSGNLLGRNSFEVRVCACPGRDRRTEEENLRKKGEPHHELPPGSTKRALPNNTSSSPQPKKKPLDGEYFTLQIRGRERFEMFRELNEALELKDAQAGKEPGGSRAHSSHLKSKKGQSTSRHKKLMFKTEGPDSD',\n",
       "  u'CCCN(CCC)CCNC(=O)C(NS(=O)(=O)c1ccc2NC(=O)CCc2c1)c3ccccc3')]"
      ]
     },
     "execution_count": 21,
     "metadata": {},
     "output_type": "execute_result"
    }
   ],
   "source": [
    "sampleData.take(10)"
   ]
  },
  {
   "cell_type": "code",
   "execution_count": 22,
   "metadata": {
    "collapsed": false
   },
   "outputs": [],
   "source": [
    "sm = findSimilarMolecules(\"COC(=O)c1ccccc1NC(=O)CN2C(=O)N(CCCC(=O)NCc3ccccc3Cl)C(=O)c4ccccc24\", molecules, similarityThreshold=0.5)"
   ]
  },
  {
   "cell_type": "code",
   "execution_count": null,
   "metadata": {
    "collapsed": false
   },
   "outputs": [],
   "source": [
    "sm.show()"
   ]
  },
  {
   "cell_type": "code",
   "execution_count": 23,
   "metadata": {
    "collapsed": false
   },
   "outputs": [],
   "source": [
    "b = getBindings(sm)"
   ]
  },
  {
   "cell_type": "code",
   "execution_count": 24,
   "metadata": {
    "collapsed": false
   },
   "outputs": [
    {
     "name": "stdout",
     "output_type": "stream",
     "text": [
      "+------+--------+--------+------------+---------+---------+--------+-------------+------------+--------+----------+\n",
      "|row_id|assay_id|molregno|std_relation|std_value|std_units|std_type|pchembl_value|component_id|molregno|similarity|\n",
      "+------+--------+--------+------------+---------+---------+--------+-------------+------------+--------+----------+\n",
      "|  7825|  688407| 1021201|           =|    31623|       nM| Potency|            5|           3| 1021201|       1.0|\n",
      "| 14823|  688546| 1021201|           =|    12589|       nM| Potency|            5|           3| 1021201|       1.0|\n",
      "| 11265|  688546|  896776|           =|    31623|       nM| Potency|            5|           3|  896776|      0.75|\n",
      "|  4215|  688407|  824821|           =|      355|       nM| Potency|            6|           3|  824821|0.73913044|\n",
      "| 18534|  688546| 1022479|           =|     1585|       nM| Potency|            6|           3| 1022479| 0.7285714|\n",
      "|  6958|  688407|  904924|           =|    25119|       nM| Potency|            5|           3|  904924| 0.6712329|\n",
      "|  5844|  688407|  950866|           =|    31623|       nM| Potency|            5|           3|  950866|0.67105263|\n",
      "|   708|  688277|  950866|           =|    25119|       nM| Potency|            5|           3|  950866|0.67105263|\n",
      "| 22236|  688549|  950866|           =|    15849|       nM| Potency|            5|           3|  950866|0.67105263|\n",
      "| 12226|  688546|  953680|           =|    10000|       nM| Potency|            5|           3|  953680|0.64788735|\n",
      "|  6308|  688407|  953680|           =|     6310|       nM| Potency|            5|           3|  953680|0.64788735|\n",
      "| 19692|  688546|  780779|           =|        3|       nM| Potency|            8|           3|  780779|0.64285713|\n",
      "| 19393|  688546| 1013840|           =|      112|       nM| Potency|            7|           3| 1013840|      0.64|\n",
      "|  2129|  688549|  779484|           =|    12589|       nM| Potency|            5|           3|  779484|0.62025315|\n",
      "|  3076|  688277|  861192|           =|     3548|       nM| Potency|            5|           3|  861192| 0.6197183|\n",
      "|   118|  688546|  739582|           =|    10000|       nM| Potency|            5|           3|  739582| 0.6111111|\n",
      "| 10939|  688546|  936610|           =|     3981|       nM| Potency|            5|           3|  936610| 0.6081081|\n",
      "|  9274|  688407|  939471|           =|     1000|       nM| Potency|            6|           3|  939471| 0.6025641|\n",
      "|  6901|  688407|  902631|           =|      631|       nM| Potency|            6|           3|  902631| 0.5822785|\n",
      "| 10093|  688546|  902631|           =|     3981|       nM| Potency|            5|           3|  902631| 0.5822785|\n",
      "+------+--------+--------+------------+---------+---------+--------+-------------+------------+--------+----------+\n",
      "only showing top 20 rows\n",
      "\n"
     ]
    }
   ],
   "source": [
    "b.orderBy(desc(\"similarity\")).show()"
   ]
  },
  {
   "cell_type": "code",
   "execution_count": null,
   "metadata": {
    "collapsed": true
   },
   "outputs": [],
   "source": []
  }
 ],
 "metadata": {
  "kernelspec": {
   "display_name": "Python 2",
   "language": "python",
   "name": "python2"
  },
  "language_info": {
   "codemirror_mode": {
    "name": "ipython",
    "version": 2
   },
   "file_extension": ".py",
   "mimetype": "text/x-python",
   "name": "python",
   "nbconvert_exporter": "python",
   "pygments_lexer": "ipython2",
   "version": "2.7.12"
  }
 },
 "nbformat": 4,
 "nbformat_minor": 2
}
