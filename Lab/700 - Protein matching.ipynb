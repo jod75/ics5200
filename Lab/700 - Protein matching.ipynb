{
 "cells": [
  {
   "cell_type": "markdown",
   "metadata": {},
   "source": [
    "# Running Blast with Apache Spark"
   ]
  },
  {
   "cell_type": "markdown",
   "metadata": {},
   "source": [
    "Important sources:\n",
    "- ChEMBL schema (used for getting protein data and create local data bank): ftp://ftp.ebi.ac.uk/pub/databases/chembl/ChEMBLdb/latest/chembl_22_1_schema_documentation.html\n",
    "- BioPython: http://biopython.org/DIST/docs/tutorial/Tutorial.html\n",
    "- FASTA format: https://blast.ncbi.nlm.nih.gov/Blast.cgi?CMD=Web&PAGE_TYPE=BlastDocs&DOC_TYPE=BlastHelp, https://ncbi.github.io/cxx-toolkit/pages/ch_demo#ch_demo.T5"
   ]
  },
  {
   "cell_type": "code",
   "execution_count": 1,
   "metadata": {
    "collapsed": false
   },
   "outputs": [],
   "source": [
    "# imports\n",
    "from pyspark import SparkContext, SparkConf\n",
    "from chemblhelper import ChEMBLHelper\n",
    "import pprint\n",
    "import re\n",
    "import os\n",
    "import subprocess\n",
    "import shutil\n",
    "import shlex"
   ]
  },
  {
   "cell_type": "code",
   "execution_count": 2,
   "metadata": {
    "collapsed": true
   },
   "outputs": [],
   "source": [
    "# initialize Spark\n",
    "if not 'sc' in globals():\n",
    "    conf = SparkConf().setMaster('yarn')\n",
    "    sc = SparkContext(conf=conf)\n",
    "    \n",
    "sc.setLogLevel(\"INFO\")"
   ]
  },
  {
   "cell_type": "markdown",
   "metadata": {},
   "source": [
    "## Creating a local protein data bank\n",
    "\n",
    "For this, we will take data from ChEMBL.  Of particular interest are the `accession` and `sequence` fields in `component_sequences` table.\n",
    "\n",
    "Following the [NCBI C++ Toolkit documentation](https://ncbi.github.io/cxx-toolkit/pages/ch_demo#ch_demo.T5), we create a FASTA file in this format:\n",
    "- each line is no more than 80 chars length\n",
    "- the line description will be of the format:\n",
    " - `>ebl|[accession]|[locus]`\n",
    " \n",
    "Since locus is not available, we will omit this. Once the fasta file is created, then we need to create a local BLAST database by invoking the `makeblastdb` command line utility.  This tool is part of the `ncbi-blast+` package.  To install:\n",
    "\n",
    "```bash\n",
    "sudo apt-get install ncbi-blast+\n",
    "```\n",
    "\n",
    "A sample command line looks like:\n",
    "\n",
    "```bash\n",
    "makeblastdb -in mydatabank.fasta -parse_seqids -dbtype prot\n",
    "```\n"
   ]
  },
  {
   "cell_type": "code",
   "execution_count": 4,
   "metadata": {
    "collapsed": false
   },
   "outputs": [],
   "source": [
    "# get data from ChEMBL\n",
    "chemblhelper = ChEMBLHelper()\n",
    "databankfilename = chemblhelper.createDataBank(\"http://hadoop1:50070\", \"/home/hduser/Lab\", \"/user/hduser/ics5200\", 100000)"
   ]
  },
  {
   "cell_type": "code",
   "execution_count": 5,
   "metadata": {
    "collapsed": true
   },
   "outputs": [],
   "source": [
    "rawdata = sc.textFile(databankfilename) \\\n",
    "            .map(lambda line: line.split(\"\\t\"))            "
   ]
  },
  {
   "cell_type": "code",
   "execution_count": 25,
   "metadata": {
    "collapsed": false
   },
   "outputs": [],
   "source": [
    "# clean up before saving file to disk\n",
    "hdfsFasta = \"/home/hduser/Lab/chembl100000.fasta\"\n",
    "shutil.rmtree(hdfsFasta, ignore_errors=True)"
   ]
  },
  {
   "cell_type": "code",
   "execution_count": 26,
   "metadata": {
    "collapsed": false
   },
   "outputs": [],
   "source": [
    "# manipulate raw data rdd and create FASTA file\n",
    "rawdata.map(lambda line: (line[9], line[10])) \\\n",
    "        .distinct() \\\n",
    "        .map(lambda t: str(\">ebl|\" + t[0] + \"|\\r\" + \"\\r\".join(re.findall(\".{1,80}\",t[1])))) \\\n",
    "        .coalesce(1,True) \\\n",
    "        .saveAsTextFile(\"file://\" + hdfsFasta)"
   ]
  },
  {
   "cell_type": "code",
   "execution_count": 27,
   "metadata": {
    "collapsed": false
   },
   "outputs": [],
   "source": [
    "# copy spark job file to protein bank folder\n",
    "localFasta = \"/home/hduser/Lab/proteinbank/chemblsample.fasta\"\n",
    "os.rename(os.path.join(hdfsFasta, \"part-00000\"), localFasta)"
   ]
  },
  {
   "cell_type": "code",
   "execution_count": 28,
   "metadata": {
    "collapsed": false
   },
   "outputs": [
    {
     "name": "stdout",
     "output_type": "stream",
     "text": [
      "\n",
      "\n",
      "Building a new DB, current time: 01/13/2017 14:31:03\n",
      "New DB name:   /home/hduser/Lab/proteinbank/chemblsample.fasta\n",
      "New DB title:  chemblsample.fasta\n",
      "Sequence type: Protein\n",
      "Keep Linkouts: T\n",
      "Keep MBits: T\n",
      "Maximum file size: 1000000000B\n",
      "Adding sequences from FASTA; added 46 sequences in 0.0123298 seconds.\n",
      "\n",
      "\n"
     ]
    }
   ],
   "source": [
    "# create local blast db\n",
    "process = subprocess.Popen(shlex.split(\"makeblastdb -in %s -parse_seqids -dbtype prot\" % os.path.basename(localFasta)),                           \n",
    "                           stdout = subprocess.PIPE,\n",
    "                           stderr = subprocess.PIPE,  \n",
    "                           cwd = os.path.dirname(localFasta),\n",
    "                           shell = False)\n",
    "\n",
    "out, err = process.communicate()\n",
    "\n",
    "print out\n",
    "print err"
   ]
  },
  {
   "cell_type": "markdown",
   "metadata": {},
   "source": [
    "## BLAST\n",
    "\n",
    "Using BioPython library:(http://biopython.org/DIST/docs/tutorial/Tutorial.html)"
   ]
  },
  {
   "cell_type": "code",
   "execution_count": 29,
   "metadata": {
    "collapsed": true
   },
   "outputs": [],
   "source": [
    "from Bio.Blast.Applications import NcbiblastxCommandline\n",
    "from Bio.Blast import NCBIXML"
   ]
  },
  {
   "cell_type": "markdown",
   "metadata": {},
   "source": [
    "### Run BLAST query"
   ]
  },
  {
   "cell_type": "code",
   "execution_count": 30,
   "metadata": {
    "collapsed": false
   },
   "outputs": [
    {
     "data": {
      "text/plain": [
       "46"
      ]
     },
     "execution_count": 30,
     "metadata": {},
     "output_type": "execute_result"
    }
   ],
   "source": [
    "proteinSeqs = rawdata.map(lambda line: (line[9], line[10])).distinct()\n",
    "proteinSeqs.count()"
   ]
  },
  {
   "cell_type": "code",
   "execution_count": 31,
   "metadata": {
    "collapsed": false
   },
   "outputs": [
    {
     "name": "stdout",
     "output_type": "stream",
     "text": [
      "P43681\n",
      "MELGGPGAPRLLPPLLLLLGTGLLRASSHVETRAHAEERLLKKLFSGYNKWSRPVANISDVVLVRFGLSIAQLIDVDEKNQMMTTNVWVKQEWHDYKLRWDPADYENVTSIRIPSELIWRPDIVLYNNADGDFAVTHLTKAHLFHDGRVQWTPPAIYKSSCSIDVTFFPFDQQNCTMKFGSWTYDKAKIDLVNMHSRVDQLDFWESGEWVIVDAVGTYNTRKYECCAEIYPDITYAFVIRRLPLFYTINLIIPCLLISCLTVLVFYLPSECGEKITLCISVLLSLTVFLLLITEIIPSTSLVIPLIGEYLLFTMIFVTLSIVITVFVLNVHHRSPRTHTMPTWVRRVFLDIVPRLLLMKRPSVVKDNCRRLIESMHKMASAPRFWPEPEGEPPATSGTQSLHPPSPSFCVPLDVPAEPGPSCKSPSDQLPPQQPLEAEKASPHPSPGPCRPPHGTQAPGLAKARSLSVQHMSSPGEAVEGGVRCRSRSIQYCVPRDDAAPEADGQAAGALASRNTHSAELPPPDQPSPCKCTCKKEPSSVSPSATVKTRSTKAPPPHLPLSPALTRAVEGVQYIADHLKAEDTDFSVKEDWKYVAMVIDRIFLWMFIIVCLLGTVGLFLPPWLAGMI\n"
     ]
    }
   ],
   "source": [
    "# prepare the blastx command\\n\n",
    "# note that we have to set the cmd = 'blastp' to run the protein counterpart instead of nucleoid\n",
    "\n",
    "outFile = \"/home/hduser/Lab/fastaTest.xml\"\n",
    "\n",
    "(query_acc, query_seq) = proteinSeqs.collect()[33]\n",
    "\n",
    "print query_acc\n",
    "print query_seq"
   ]
  },
  {
   "cell_type": "code",
   "execution_count": 32,
   "metadata": {
    "collapsed": false
   },
   "outputs": [
    {
     "name": "stdout",
     "output_type": "stream",
     "text": [
      "\n",
      "\n"
     ]
    }
   ],
   "source": [
    "blastp_cline = NcbiblastxCommandline(cmd = \"blastp\",\n",
    "                                     db = localFasta,\n",
    "                                     evalue = 0.01,\n",
    "                                     outfmt = 5,\n",
    "                                     remote = False,\n",
    "                                     out = outFile)\n",
    "\n",
    "(out, err) = blastp_cline(stdin = query_seq)\n",
    "print out\n",
    "print err"
   ]
  },
  {
   "cell_type": "markdown",
   "metadata": {},
   "source": [
    "### Parse BLAST output file"
   ]
  },
  {
   "cell_type": "code",
   "execution_count": 35,
   "metadata": {
    "collapsed": false
   },
   "outputs": [],
   "source": [
    "result_handle = open(outFile)\n",
    "\n",
    "#use NCBIXML.read if there is only one record, otherwise use .parse()\n",
    "blast_record = NCBIXML.read(result_handle)\n",
    "#blast_records = NCBIXML.parse(result_handle)"
   ]
  },
  {
   "cell_type": "code",
   "execution_count": 36,
   "metadata": {
    "collapsed": false
   },
   "outputs": [
    {
     "name": "stdout",
     "output_type": "stream",
     "text": [
      "-------------------------------------------\n",
      "  **** Alignment (1) ****\n",
      "   sequence: P43681\n",
      "   e value: 0.0\n",
      "   Score 3332 (1288 bits), expectation 0.0e+00, alignment length 627\n",
      "Query:       1 MELGGPGAPRLLPPLLLLLGTGLLRASSHVETRAHAEERLLKKLF...GMI 627\n",
      "               MELGGPGAPRLLPPLLLLLGTGLLRASSHVETRAHAEERLLKKLF...GMI\n",
      "Sbjct:       1 MELGGPGAPRLLPPLLLLLGTGLLRASSHVETRAHAEERLLKKLF...GMI 627\n",
      "-------------------------------------------\n",
      "  **** Alignment (1) ****\n",
      "   sequence: P09483\n",
      "   e value: 0.0\n",
      "   Score 2528 (978 bits), expectation 0.0e+00, alignment length 603\n",
      "Query:      27 SSHVETRAHAEERLLKKLFSGYNKWSRPVANISDVVLVRFGLSIA...LAG 625\n",
      "               SSH+ETRAHAEERLLK+LFSGYNKWSRPVANISDVVLVRFGLSIA...LA \n",
      "Sbjct:      29 SSHIETRAHAEERLLKRLFSGYNKWSRPVANISDVVLVRFGLSIA...LAA 629\n",
      "-------------------------------------------\n",
      "  **** Alignment (1) ****\n",
      "   sequence: P12389\n",
      "   e value: 0.0\n",
      "   Score 1440 (559 bits), expectation 0.0e+00, alignment length 346\n",
      "Query:      16 LLLLGTGLLRASSHVETRAHAEERLLKKLFSGYNKWSRPVANISD...KRP 361\n",
      "               LLL+   L +  SH     HAE+RL K LF GYN+W+RPV N SD... RP\n",
      "Sbjct:      19 LLLVPAVLTQQGSH----THAEDRLFKHLFGGYNRWARPVPNTSD...NRP 360\n",
      "  **** Alignment (2) ****\n",
      "   sequence: P12389\n",
      "   e value: 4.62337e-30\n",
      "   Score 289 (115 bits), expectation 4.6e-30, alignment length 79\n",
      "Query:     551 TKAP--PPHLPLSPALTRAVEGVQYIADHLKAEDTDFSVKEDWKY...GMI 627\n",
      "               TK P     + LSP + +A+EGV YIAD L++ED D SVKEDWKY...GMI\n",
      "Sbjct:     433 TKTPSQASEILLSPQIQKALEGVHYIADRLRSEDADSSVKEDWKY...GMI 511\n",
      "-------------------------------------------\n",
      "  **** Alignment (1) ****\n",
      "   sequence: P32297\n",
      "   e value: 4.53918e-168\n",
      "   Score 1251 (486 bits), expectation 4.5e-168, alignment length 341\n",
      "Query:      30 VETRAHAEERLLKKLFSGYNKWSRPVANISDVVLVRFGLSIAQLI...CRR 370\n",
      "               V   + AE RL ++LF  YN+  RPVAN+SD V++ F +S++QL+... ++\n",
      "Sbjct:      28 VARASEAEHRLFERLFEDYNEIIRPVANVSDPVIIHFEVSMSQLV...AQK 368\n",
      "  **** Alignment (2) ****\n",
      "   sequence: P32297\n",
      "   e value: 3.97331e-21\n",
      "   Score 218 (88 bits), expectation 4.0e-21, alignment length 65\n",
      "Query:     560 LSPALTRAVEGVQYIADHLKAEDTDFSVKEDWKYVAMVIDRIFLW...WLA 624\n",
      "               LSP +  A++ V+YIA+++KA++    +++DWKYVAMVIDRIFLW... +A\n",
      "Sbjct:     437 LSPEIKEAIQSVKYIAENMKAQNEAKEIQDDWKYVAMVIDRIFLW...LMA 501\n",
      "-------------------------------------------\n",
      "  **** Alignment (1) ****\n",
      "   sequence: P04757\n",
      "   e value: 5.9835e-168\n",
      "   Score 1250 (486 bits), expectation 6.0e-168, alignment length 331\n",
      "Query:      32 TRAHAEERLLKKLFSGYNKWSRPVANISDVVLVRFGLSIAQLIDV...RPS 362\n",
      "               + + AE RL + LF  YN+  RPVAN+S  V+++F +S++QL+ V...RP+\n",
      "Sbjct:      24 SASEAEHRLFQYLFEDYNEIIRPVANVSHPVIIQFEVSMSQLVKV...RPT 354\n",
      "  **** Alignment (2) ****\n",
      "   sequence: P04757\n",
      "   e value: 3.06058e-22\n",
      "   Score 227 (92 bits), expectation 3.1e-22, alignment length 136\n",
      "Query:     494 PRDDAAPEADGQAAGALASRNTHSAELPPPDQPSPCKCTCKKEPS...WLA 624\n",
      "               P+      A+       +  ++ S +   P Q   C   C     ... +A\n",
      "Sbjct:     361 PKTRTFYGAELSNLNCFSRADSKSCKEGYPCQDGTCG-YCHHRRV...LMA 495\n",
      "-------------------------------------------\n",
      "  **** Alignment (1) ****\n",
      "   sequence: P02708\n",
      "   e value: 2.79895e-123\n",
      "   Score 950 (370 bits), expectation 2.8e-123, alignment length 409\n",
      "Query:      14 PLLLLLG---TGLLRASSHVETRAHAEERLLKKLFSGYNKWSRPV...PEG 390\n",
      "               PLLLL      GL+  S H       E RL+ KLF  Y+   RPV...P G\n",
      "Sbjct:       5 PLLLLFSLCSAGLVLGSEH-------ETRLVAKLFKDYSSVVRPV...PMG 406\n",
      "  **** Alignment (2) ****\n",
      "   sequence: P02708\n",
      "   e value: 1.57876e-13\n",
      "   Score 155 (64 bits), expectation 1.6e-13, alignment length 71\n",
      "Query:     553 APPP---HLPL--SPALTRAVEGVQYIADHLKAEDTDFSVKEDWK...GLF 618\n",
      "                PPP   H PL   P +  A+EG++YIA+ +K++    +   +WK... +F\n",
      "Sbjct:     401 GPPPMGFHSPLIKHPEVKSAIEGIKYIAETMKSDQESNNAAAEWK...AVF 471\n",
      "-------------------------------------------\n",
      "  **** Alignment (1) ****\n",
      "   sequence: P17787\n",
      "   e value: 2.15841e-122\n",
      "   Score 946 (369 bits), expectation 2.2e-122, alignment length 328\n",
      "Query:      37 EERLLKKLF--SGYNKWSRPVANISDVVLVRFGLSIAQLIDVDEK...KRP 361\n",
      "               EERL++ L   S YNK  RP  N S++V V+  +S+AQLI V E+...++P\n",
      "Sbjct:      29 EERLVEHLLDPSRYNKLIRPATNGSELVTVQLMVSLAQLISVHER...QQP 352\n",
      "  **** Alignment (2) ****\n",
      "   sequence: P17787\n",
      "   e value: 7.42827e-23\n",
      "   Score 232 (93 bits), expectation 7.4e-23, alignment length 63\n",
      "Query:     559 PLSPALTRAVEGVQYIADHLKAEDTDFSVKEDWKYVAMVIDRIFL...LPP 621\n",
      "               P    L  AV+GV++IADH+++ED D SV EDWKYVAMVIDR+FL...L P\n",
      "Sbjct:     419 PCGCGLREAVDGVRFIADHMRSEDDDQSVSEDWKYVAMVIDRLFL...LQP 481\n",
      "-------------------------------------------\n",
      "  **** Alignment (1) ****\n",
      "   sequence: P12390\n",
      "   e value: 2.21328e-122\n",
      "   Score 945 (368 bits), expectation 2.2e-122, alignment length 361\n",
      "Query:       4 GGPGAPRLLPPLLLLLGTGLLRASSHVETRAHAEERLLKKLF--S...KRP 361\n",
      "               G   +  L    LL L +G+L   +        EERL++ L   S...++P\n",
      "Sbjct:       3 GHSNSMALFSFSLLWLCSGVLGTDT--------EERLVEHLLDPS...QQP 351\n",
      "  **** Alignment (2) ****\n",
      "   sequence: P12390\n",
      "   e value: 3.94746e-26\n",
      "   Score 258 (103 bits), expectation 3.9e-26, alignment length 119\n",
      "Query:     506 AAGALASRNTHSAELPPPDQPSPCKCTCKKEPSSVSP-SATVKTR...LPP 621\n",
      "                AGAL  R          + P+   CTC   P+SV   +   +  ...L P\n",
      "Sbjct:     371 GAGALFFR----------EGPAADPCTCFVNPASVQGLAGAFRAE...LQP 479\n",
      "-------------------------------------------\n",
      "  **** Alignment (1) ****\n",
      "   sequence: P30926\n",
      "   e value: 7.73243e-121\n",
      "   Score 935 (364 bits), expectation 7.7e-121, alignment length 355\n",
      "Query:      10 RLLPPLLLLLGTGLL-RASSHVETRAHAEERLLKKLFSG--YNKW...KRP 361\n",
      "               R  P L+L     L  R +  V   A+AEE+L+  L +   YN  ...KRP\n",
      "Sbjct:       2 RRAPSLVLFFLVALCGRGNCRV---ANAEEKLMDDLLNKTRYNNL...KRP 350\n",
      "  **** Alignment (2) ****\n",
      "   sequence: P30926\n",
      "   e value: 3.7696e-22\n",
      "   Score 226 (91 bits), expectation 3.8e-22, alignment length 55\n",
      "Query:     567 AVEGVQYIADHLKAEDTDFSVKEDWKYVAMVIDRIFLWMFIIVCL...LPP 621\n",
      "               A+EGV +IA H+K +D D SV EDWKYVAMV+DR+FLW+F+ VC+...LPP\n",
      "Sbjct:     427 ALEGVSFIAQHMKNDDEDQSVVEDWKYVAMVVDRLFLWVFMFVCV...LPP 481\n",
      "-------------------------------------------\n",
      "  **** Alignment (1) ****\n",
      "   sequence: P12392\n",
      "   e value: 3.20585e-119\n",
      "   Score 924 (360 bits), expectation 3.2e-119, alignment length 332\n",
      "Query:      34 AHAEERLLKKLFSG--YNKWSRPVANISDVVLVRFGLSIAQLIDV...PSV 363\n",
      "               A+AEE+L+  L +   YN   RP  + S ++ +R  LS++QLI V...P +\n",
      "Sbjct:      23 ANAEEKLMDDLLNKTRYNNLIRPATSSSQLISIRLELSLSQLISV...PGL 351\n",
      "  **** Alignment (2) ****\n",
      "   sequence: P12392\n",
      "   e value: 7.69644e-22\n",
      "   Score 224 (90 bits), expectation 7.7e-22, alignment length 58\n",
      "Query:     564 LTRAVEGVQYIADHLKAEDTDFSVKEDWKYVAMVIDRIFLWMFII...LPP 621\n",
      "               L  A+EGV +IA HL+++D D SV EDWK+VAMV+DR+FLW+F+ ...LPP\n",
      "Sbjct:     427 LQEALEGVSFIAQHLESDDRDQSVIEDWKFVAMVVDRLFLWVFVF...LPP 484\n",
      "-------------------------------------------\n",
      "  **** Alignment (1) ****\n",
      "   sequence: P11230\n",
      "   e value: 3.39991e-92\n",
      "   Score 741 (290 bits), expectation 3.4e-92, alignment length 353\n",
      "Query:      34 AHAEERLLKKLFSGYNKWSRPVANISDVVLVRFGLSIAQLIDVDE...VKD 366\n",
      "               + AE RL +KLFSGY+   RP   + D V V  GL +AQLI ++E... +D\n",
      "Sbjct:      24 SEAEGRLREKLFSGYDSSVRPAREVGDRVRVSVGLILAQLISLNE...ERD 368\n",
      "  **** Alignment (2) ****\n",
      "   sequence: P11230\n",
      "   e value: 7.96386e-14\n",
      "   Score 158 (65 bits), expectation 8.0e-14, alignment length 86\n",
      "Query:     536 EPSSVSP--SATVKTRSTKAPPPHLPLSPALTRAVEGVQYIADHL...LFL 619\n",
      "               +P+   P  SA    R    P   + L P L   V  + YIA  L...+FL\n",
      "Sbjct:     403 KPNRFQPELSAPDLRRFIDGPNRAVALLPELREVVSSISYIARQL...IFL 488\n",
      "-------------------------------------------\n",
      "  **** Alignment (1) ****\n",
      "   sequence: P07510\n",
      "   e value: 5.16782e-83\n",
      "   Score 679 (266 bits), expectation 5.2e-83, alignment length 351\n",
      "Query:      35 HAEERLLKKLFSGYNKWSRPVANISDVVLVRFGLSIAQLIDVDEK...RRL 371\n",
      "               + EERLL  L   Y+   RP    SDVV V   L++  LI ++E+... RL\n",
      "Sbjct:      24 NQEERLLADLMQNYDPNLRPAERDSDVVNVSLKLTLTNLISLNER...SRL 374\n",
      "  **** Alignment (2) ****\n",
      "   sequence: P07510\n",
      "   e value: 0.00163193\n",
      "   Score 72 (32 bits), expectation 1.6e-03, alignment length 59\n",
      "Query:     561 SPALTRAVEGVQYIADHLKAEDTDFSVKEDWKYVAMVIDRIFLWM...LFL 619\n",
      "               +PA+   VE    IA     +    +  E+W  V  V+DR+    ...+FL\n",
      "Sbjct:     435 APAIQACVEACNLIACARHQQSHFDNGNEEWFLVGRVLDRVCFLA...IFL 493\n",
      "-------------------------------------------\n",
      "  **** Alignment (1) ****\n",
      "   sequence: P18508\n",
      "   e value: 7.66042e-17\n",
      "   Score 182 (74 bits), expectation 7.7e-17, alignment length 275\n",
      "Query:      40 LLKKLFSGYNKWSRPVANISDVVLVRFGLSIAQLIDVDEKNQMMT...IPL 305\n",
      "               +L  L  GY+   RP   +    L+   + +  +  V+  N   T...  +\n",
      "Sbjct:      68 ILNNLLEGYDNKLRPDIGVKPT-LIHTDMYVNSIGPVNAINMEYT...TAM 334\n",
      "-------------------------------------------\n",
      "  **** Alignment (1) ****\n",
      "   sequence: P15431\n",
      "   e value: 8.78793e-17\n",
      "   Score 182 (74 bits), expectation 8.8e-17, alignment length 274\n",
      "Query:      68 LSIAQLIDVDEKNQMMTTNVWVKQEWHDYKLRWDPADYENVTSIR...VFV 327\n",
      "               + +A +  V E N   T  ++ +Q W D +L +           R... FV\n",
      "Sbjct:      67 IDVASIDMVSEVNMDYTLTMYFQQSWKDKRLSYSGIPLNLTLDNR...AFV 327\n",
      "-------------------------------------------\n",
      "  **** Alignment (1) ****\n",
      "   sequence: P63079\n",
      "   e value: 5.67068e-16\n",
      "   Score 175 (72 bits), expectation 5.7e-16, alignment length 292\n",
      "Query:      41 LKKLFSGYNKWSRPVANISDVVLVRFGLSIAQLIDVDEKNQMMTT...VFV 327\n",
      "               + KL  GY+   RP       V V   + IA +  V E N   T ... FV\n",
      "Sbjct:      41 VDKLLKGYDIRLRPDFG-GPPVCVGMNIDIASIDMVSEVNMDYTL...AFV 327\n",
      "-------------------------------------------\n",
      "  **** Alignment (1) ****\n",
      "   sequence: P30191\n",
      "   e value: 6.91179e-16\n",
      "   Score 174 (71 bits), expectation 6.9e-16, alignment length 269\n",
      "Query:      39 RLLKKLFSGYNKWSRPVANISDVVLVRFGLSIAQLIDVDEKNQMM...STS 300\n",
      "               R+L  L  GY+   RP      V  V+  + +     V +     ...  S\n",
      "Sbjct:      34 RILDNLLEGYDNRLRPGFG-GAVTEVKTDIYVTSFGPVSDVEMEY...KVS 298\n",
      "-------------------------------------------\n",
      "  **** Alignment (1) ****\n",
      "   sequence: P28471\n",
      "   e value: 7.27628e-16\n",
      "   Score 175 (72 bits), expectation 7.3e-16, alignment length 276\n",
      "Query:      39 RLLKKLFSGYNKWSRPVANISDVVLVRFGLSIAQLIDVDEKNQMM...IPL 305\n",
      "               R+L  L  GY+   RP      V  V+  + +     V +     ...  +\n",
      "Sbjct:      50 RILDSLLDGYDNRLRPGFG-GPVTEVKTDIYVTSFGPVSDVEMEY...TAM 319\n",
      "-------------------------------------------\n",
      "  **** Alignment (1) ****\n",
      "   sequence: P63138\n",
      "   e value: 2.63311e-15\n",
      "   Score 170 (70 bits), expectation 2.6e-15, alignment length 294\n",
      "Query:      41 LKKLFSGYNKWSRPVANISDV----VLVRFGLSIAQLIDVDEKNQ...SIV 322\n",
      "               + +L  GY+   RP     D     V V   + IA +  V E N ...+++\n",
      "Sbjct:      40 VDRLLKGYDIRLRP-----DFGGPPVAVGMNIDIASIDMVSEVNM...ALL 321\n",
      "-------------------------------------------\n",
      "  **** Alignment (1) ****\n",
      "   sequence: P47870\n",
      "   e value: 3.28385e-15\n",
      "   Score 169 (69 bits), expectation 3.3e-15, alignment length 269\n",
      "Query:      62 VLVRFGLSIAQLIDVDEKNQMMTTNVWVKQEWHDYKLRWDPADYE...SIV 322\n",
      "               V V   + IA +  V E N   T  ++ +Q W D +L ++     ...+++\n",
      "Sbjct:      60 VAVGMNIDIASIDMVSEVNMDYTLTMYFQQAWRDKRLSYNVIPLN...ALL 321\n",
      "-------------------------------------------\n",
      "  **** Alignment (1) ****\n",
      "   sequence: P20236\n",
      "   e value: 4.62198e-15\n",
      "   Score 168 (69 bits), expectation 4.6e-15, alignment length 252\n",
      "Query:      39 RLLKKLFSGYNKWSRPVANISDVVL-VRFGLSIAQLIDVDEKNQM...SEC 271\n",
      "               R+L +L  GY+   RP   + D V  V+  + +     V + +  ... E \n",
      "Sbjct:      69 RILDRLLDGYDNRLRP--GLGDAVTEVKTDIYVTSFGPVSDTDME...RES 303\n",
      "-------------------------------------------\n",
      "  **** Alignment (1) ****\n",
      "   sequence: P28473\n",
      "   e value: 4.64932e-15\n",
      "   Score 168 (69 bits), expectation 4.6e-15, alignment length 270\n",
      "Query:      40 LLKKLFSGYNKWSRPVANISDVVLVRFGLSIAQLIDVDEKNQMMT...IPL 305\n",
      "               +L KL   Y+K  RP   I   V +   + +  +  V   N    ...  +\n",
      "Sbjct:      50 ILNKLLREYDKKLRPDIGIKPTV-IDVDIYVNSIGPVSSINMEYQ...TAM 316\n",
      "-------------------------------------------\n",
      "  **** Alignment (1) ****\n",
      "   sequence: P23574\n",
      "   e value: 1.75029e-14\n",
      "   Score 163 (67 bits), expectation 1.8e-14, alignment length 275\n",
      "Query:      39 RLLKKLFSGYNKWSRPVANISDVVLVRFGLSIAQLIDVDEKNQMM...IPL 305\n",
      "               ++L  L  GY+   RP   +   V +   + +  +  VD  N   ...  +\n",
      "Sbjct:      66 QILNSLLQGYDNKLRPDIGVRPTV-IETDVYVNSIGPVDPINMEY...TAM 333\n",
      "-------------------------------------------\n",
      "  **** Alignment (1) ****\n",
      "   sequence: P14867\n",
      "   e value: 7.91482e-14\n",
      "   Score 158 (65 bits), expectation 7.9e-14, alignment length 243\n",
      "Query:      39 RLLKKLFSGYNKWSRPVANISDVVLVRFGLSIAQLIDVDEKNQMM...SEC 271\n",
      "               R+L +L  GY+   RP      V  V+  + +     V + +   ... E \n",
      "Sbjct:      44 RILDRLLDGYDNRLRPGLG-ERVTEVKTDIFVTSFGPVSDHDMEY...RES 278\n",
      "-------------------------------------------\n",
      "  **** Alignment (1) ****\n",
      "   sequence: P19969\n",
      "   e value: 9.04537e-14\n",
      "   Score 157 (65 bits), expectation 9.0e-14, alignment length 243\n",
      "Query:      39 RLLKKLFSGYNKWSRPVANISDVVLVRFGLSIAQLIDVDEKNQMM...SEC 271\n",
      "               R+L  L  GY+   RP      +  VR  + +     V +     ... E \n",
      "Sbjct:      51 RILDGLLDGYDNRLRPGLG-ERITQVRTDIYVTSFGPVSDTEMEY...RES 285\n",
      "-------------------------------------------\n",
      "  **** Alignment (1) ****\n",
      "   sequence: P62813\n",
      "   e value: 1.13028e-13\n",
      "   Score 156 (64 bits), expectation 1.1e-13, alignment length 243\n",
      "Query:      39 RLLKKLFSGYNKWSRPVANISDVVLVRFGLSIAQLIDVDEKNQMM...SEC 271\n",
      "               R+L +L  GY+   RP      V  V+  + +     V + +   ... E \n",
      "Sbjct:      43 RILDRLLDGYDNRLRPGLG-ERVTEVKTDIFVTSFGPVSDHDMEY...RES 277\n",
      "-------------------------------------------\n",
      "  **** Alignment (1) ****\n",
      "   sequence: P23576\n",
      "   e value: 4.08578e-13\n",
      "   Score 152 (63 bits), expectation 4.1e-13, alignment length 255\n",
      "Query:      39 RLLKKLFSGYNKWSRPVANISDVVLVRF-GLSIAQLIDVDEKNQM...PSE 270\n",
      "               R+L +L  GY+   RP   + D +   F  + +     V + +  ...  E\n",
      "Sbjct:      44 RILDRLLDGYDNRLRP--GLGDSITEVFTNIYVTSFGPVSDTDME...NRE 277\n",
      "-------------------------------------------\n",
      "  **** Alignment (1) ****\n",
      "   sequence: O09028\n",
      "   e value: 5.73094e-12\n",
      "   Score 142 (59 bits), expectation 5.7e-12, alignment length 289\n",
      "Query:      41 LKKLFSGYNKWSRPVANISDVVLVRFGLSIAQLIDVDEKNQMMTT...VTL 319\n",
      "                + L +GYNK+ RP     D V +   L IA +  + E N   T ...  L\n",
      "Sbjct:      41 FENLTAGYNKFLRPNFG-GDPVRIALTLDIASISSISESNMDYTA...GAL 321\n",
      "-------------------------------------------\n",
      "  **** Alignment (1) ****\n",
      "   sequence: P18506\n",
      "   e value: 1.50255e-10\n",
      "   Score 131 (55 bits), expectation 1.5e-10, alignment length 231\n",
      "Query:      41 LKKLFSGYNKWSRPVANISDVVLVRFGLSIAQLIDVDEKNQMMTT...FYL 267\n",
      "               L  L  GY +  RP       V V   L +A +  + E N   T ...F++\n",
      "Sbjct:      44 LDGLMEGYARNFRPGIG-GPPVNVALALEVASIDHISEANMEYTM...FWI 271\n"
     ]
    }
   ],
   "source": [
    "for alignment in blast_record.alignments:\n",
    "    i = 1\n",
    "    print(\"-------------------------------------------\")\n",
    "    for hsp in alignment.hsps:\n",
    "        print(\"  **** Alignment (%d) ****\" % i)\n",
    "        i = i + 1\n",
    "        print(\"   sequence: %s\" % alignment.accession)            \n",
    "        print(\"   e value: %s\" % hsp.expect) \n",
    "        print(\"   %s\" % hsp)"
   ]
  },
  {
   "cell_type": "code",
   "execution_count": 74,
   "metadata": {
    "collapsed": false
   },
   "outputs": [],
   "source": [
    "# create matching proteins list.\n",
    "# each list entry is a tuple in the format:\n",
    "#  (Accession, Hit, High-Scoring-Pair expect value)\n",
    "result_handle = open(outFile)\n",
    "blast_record = NCBIXML.read(result_handle)\n",
    "matches = []\n",
    "for alignment in blast_record.alignments:   \n",
    "    i = 1\n",
    "    for hsp in alignment.hsps:\n",
    "        matches.append((alignment.accession, (i, hsp.expect)))\n",
    "        i = i + 1        "
   ]
  },
  {
   "cell_type": "code",
   "execution_count": 75,
   "metadata": {
    "collapsed": false
   },
   "outputs": [
    {
     "name": "stdout",
     "output_type": "stream",
     "text": [
      "[(u'P43681', (1, 0.0)), (u'P09483', (1, 0.0)), (u'P12389', (1, 0.0)), (u'P12389', (2, 4.62337e-30)), (u'P32297', (1, 4.53918e-168)), (u'P32297', (2, 3.97331e-21)), (u'P04757', (1, 5.9835e-168)), (u'P04757', (2, 3.06058e-22)), (u'P02708', (1, 2.79895e-123)), (u'P02708', (2, 1.57876e-13)), (u'P17787', (1, 2.15841e-122)), (u'P17787', (2, 7.42827e-23)), (u'P12390', (1, 2.21328e-122)), (u'P12390', (2, 3.94746e-26)), (u'P30926', (1, 7.73243e-121)), (u'P30926', (2, 3.7696e-22)), (u'P12392', (1, 3.20585e-119)), (u'P12392', (2, 7.69644e-22)), (u'P11230', (1, 3.39991e-92)), (u'P11230', (2, 7.96386e-14)), (u'P07510', (1, 5.16782e-83)), (u'P07510', (2, 0.00163193)), (u'P18508', (1, 7.66042e-17)), (u'P15431', (1, 8.78793e-17)), (u'P63079', (1, 5.67068e-16)), (u'P30191', (1, 6.91179e-16)), (u'P28471', (1, 7.27628e-16)), (u'P63138', (1, 2.63311e-15)), (u'P47870', (1, 3.28385e-15)), (u'P20236', (1, 4.62198e-15)), (u'P28473', (1, 4.64932e-15)), (u'P23574', (1, 1.75029e-14)), (u'P14867', (1, 7.91482e-14)), (u'P19969', (1, 9.04537e-14)), (u'P62813', (1, 1.13028e-13)), (u'P23576', (1, 4.08578e-13)), (u'O09028', (1, 5.73094e-12)), (u'P18506', (1, 1.50255e-10))]\n"
     ]
    }
   ],
   "source": [
    "print(matches)"
   ]
  },
  {
   "cell_type": "code",
   "execution_count": 89,
   "metadata": {
    "collapsed": false
   },
   "outputs": [
    {
     "data": {
      "text/plain": [
       "[(u'P43681', (1, 0.0)),\n",
       " (u'P09483', (1, 0.0)),\n",
       " (u'P12389', (1, 0.0)),\n",
       " (u'P12389', (2, 4.62337e-30)),\n",
       " (u'P32297', (1, 4.53918e-168)),\n",
       " (u'P32297', (2, 3.97331e-21)),\n",
       " (u'P04757', (1, 5.9835e-168)),\n",
       " (u'P04757', (2, 3.06058e-22)),\n",
       " (u'P02708', (1, 2.79895e-123)),\n",
       " (u'P02708', (2, 1.57876e-13)),\n",
       " (u'P17787', (1, 2.15841e-122)),\n",
       " (u'P17787', (2, 7.42827e-23)),\n",
       " (u'P12390', (1, 2.21328e-122)),\n",
       " (u'P12390', (2, 3.94746e-26)),\n",
       " (u'P30926', (1, 7.73243e-121)),\n",
       " (u'P30926', (2, 3.7696e-22)),\n",
       " (u'P12392', (1, 3.20585e-119)),\n",
       " (u'P12392', (2, 7.69644e-22)),\n",
       " (u'P11230', (1, 3.39991e-92)),\n",
       " (u'P11230', (2, 7.96386e-14)),\n",
       " (u'P07510', (1, 5.16782e-83)),\n",
       " (u'P07510', (2, 0.00163193)),\n",
       " (u'P18508', (1, 7.66042e-17)),\n",
       " (u'P15431', (1, 8.78793e-17)),\n",
       " (u'P63079', (1, 5.67068e-16)),\n",
       " (u'P30191', (1, 6.91179e-16)),\n",
       " (u'P28471', (1, 7.27628e-16)),\n",
       " (u'P63138', (1, 2.63311e-15)),\n",
       " (u'P47870', (1, 3.28385e-15)),\n",
       " (u'P20236', (1, 4.62198e-15)),\n",
       " (u'P28473', (1, 4.64932e-15)),\n",
       " (u'P23574', (1, 1.75029e-14)),\n",
       " (u'P14867', (1, 7.91482e-14)),\n",
       " (u'P19969', (1, 9.04537e-14)),\n",
       " (u'P62813', (1, 1.13028e-13)),\n",
       " (u'P23576', (1, 4.08578e-13)),\n",
       " (u'O09028', (1, 5.73094e-12)),\n",
       " (u'P18506', (1, 1.50255e-10))]"
      ]
     },
     "execution_count": 89,
     "metadata": {},
     "output_type": "execute_result"
    }
   ],
   "source": [
    "sm = sc.parallelize(matches) \n",
    "sm.collect()"
   ]
  },
  {
   "cell_type": "code",
   "execution_count": 90,
   "metadata": {
    "collapsed": false
   },
   "outputs": [
    {
     "data": {
      "text/plain": [
       "28"
      ]
     },
     "execution_count": 90,
     "metadata": {},
     "output_type": "execute_result"
    }
   ],
   "source": [
    "uniqueAccessions = sm.map(lambda t: t[0]).distinct().collect()\n",
    "uniqueAccessions\n",
    "len(uniqueAccessions)"
   ]
  },
  {
   "cell_type": "code",
   "execution_count": 91,
   "metadata": {
    "collapsed": false
   },
   "outputs": [
    {
     "data": {
      "text/plain": [
       "[(u'P11230', u'16'),\n",
       " (u'P20236', u'30'),\n",
       " (u'O09028', u'1'),\n",
       " (u'P43681', u'46'),\n",
       " (u'P32297', u'43'),\n",
       " (u'P23576', u'32'),\n",
       " (u'P18508', u'28'),\n",
       " (u'P12389', u'18'),\n",
       " (u'P17787', u'26'),\n",
       " (u'P02708', u'2')]"
      ]
     },
     "execution_count": 91,
     "metadata": {},
     "output_type": "execute_result"
    }
   ],
   "source": [
    "accessionsCompId = rawdata.filter(lambda t: t[9] in uniqueAccessions).map(lambda p: (p[9], p[8])).distinct()\n",
    "accessionsCompId.take(10)"
   ]
  },
  {
   "cell_type": "code",
   "execution_count": 92,
   "metadata": {
    "collapsed": false
   },
   "outputs": [],
   "source": [
    "from pyspark.sql.types import *\n",
    "from pyspark.sql.functions import col, desc\n",
    "from pyspark.sql import SQLContext\n",
    "simSchema = StructType([StructField(\"accession\", StringType(), False),\n",
    "                                StructField(\"hit\", IntegerType(), False),\n",
    "                                StructField(\"similarity\", FloatType(), False),\n",
    "                                StructField(\"compId\", LongType(), False)])"
   ]
  },
  {
   "cell_type": "code",
   "execution_count": 98,
   "metadata": {
    "collapsed": false
   },
   "outputs": [],
   "source": [
    "sm2 = sm.join(accessionsCompId).map(lambda t: (t[0], t[1][0][0], t[1][0][1], long(t[1][1])))\n",
    "#accessionsCompId.join(sm).collect()"
   ]
  },
  {
   "cell_type": "code",
   "execution_count": 99,
   "metadata": {
    "collapsed": false
   },
   "outputs": [],
   "source": [
    "sim = sqlContext.createDataFrame(sm2, simSchema) "
   ]
  },
  {
   "cell_type": "code",
   "execution_count": 100,
   "metadata": {
    "collapsed": false
   },
   "outputs": [
    {
     "name": "stdout",
     "output_type": "stream",
     "text": [
      "+---------+---+-----------+------+\n",
      "|accession|hit| similarity|compId|\n",
      "+---------+---+-----------+------+\n",
      "|   P28471|  1|7.27628E-16|    38|\n",
      "|   P18506|  1|1.50255E-10|    27|\n",
      "|   P30926|  1|        0.0|    42|\n",
      "|   P30926|  2| 3.7696E-22|    42|\n",
      "|   P15431|  1|8.78793E-17|    24|\n",
      "|   P43681|  1|        0.0|    46|\n",
      "|   P32297|  1|        0.0|    43|\n",
      "|   P32297|  2|3.97331E-21|    43|\n",
      "|   P23574|  1|1.75029E-14|    31|\n",
      "|   P04757|  1|        0.0|     4|\n",
      "|   P04757|  2|3.06058E-22|     4|\n",
      "|   P63138|  1|2.63311E-15|    50|\n",
      "|   P07510|  1|        0.0|     9|\n",
      "|   P07510|  2| 0.00163193|     9|\n",
      "|   P20236|  1|4.62198E-15|    30|\n",
      "|   P12390|  1|        0.0|    19|\n",
      "|   P12390|  2|3.94746E-26|    19|\n",
      "|   P63079|  1|5.67068E-16|    49|\n",
      "|   P28473|  1|4.64932E-15|    39|\n",
      "|   P19969|  1|9.04537E-14|    29|\n",
      "+---------+---+-----------+------+\n",
      "only showing top 20 rows\n",
      "\n"
     ]
    }
   ],
   "source": [
    "sim.show()"
   ]
  },
  {
   "cell_type": "code",
   "execution_count": null,
   "metadata": {
    "collapsed": true
   },
   "outputs": [],
   "source": []
  }
 ],
 "metadata": {
  "kernelspec": {
   "display_name": "Python 2",
   "language": "python",
   "name": "python2"
  },
  "language_info": {
   "codemirror_mode": {
    "name": "ipython",
    "version": 2
   },
   "file_extension": ".py",
   "mimetype": "text/x-python",
   "name": "python",
   "nbconvert_exporter": "python",
   "pygments_lexer": "ipython2",
   "version": "2.7.12"
  }
 },
 "nbformat": 4,
 "nbformat_minor": 2
}
