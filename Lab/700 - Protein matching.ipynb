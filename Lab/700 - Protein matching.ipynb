{
 "cells": [
  {
   "cell_type": "markdown",
   "metadata": {},
   "source": [
    "# Running Blast with Apache Spark"
   ]
  },
  {
   "cell_type": "markdown",
   "metadata": {},
   "source": [
    "Important sources:\n",
    "- ChEMBL schema (used for getting protein data and create local data bank): ftp://ftp.ebi.ac.uk/pub/databases/chembl/ChEMBLdb/latest/chembl_22_1_schema_documentation.html\n",
    "- BioPython: http://biopython.org/DIST/docs/tutorial/Tutorial.html\n",
    "- FASTA format: https://blast.ncbi.nlm.nih.gov/Blast.cgi?CMD=Web&PAGE_TYPE=BlastDocs&DOC_TYPE=BlastHelp, https://ncbi.github.io/cxx-toolkit/pages/ch_demo#ch_demo.T5"
   ]
  },
  {
   "cell_type": "code",
   "execution_count": 1,
   "metadata": {
    "collapsed": false
   },
   "outputs": [],
   "source": [
    "# imports\n",
    "from pyspark import SparkContext, SparkConf\n",
    "from chemblhelper import ChEMBLHelper\n",
    "import pprint\n",
    "import re\n",
    "import os\n",
    "import subprocess\n",
    "import shutil\n",
    "import shlex"
   ]
  },
  {
   "cell_type": "code",
   "execution_count": 2,
   "metadata": {
    "collapsed": true
   },
   "outputs": [],
   "source": [
    "# initialize Spark\n",
    "if not 'sc' in globals():\n",
    "    conf = SparkConf().setMaster('yarn')\n",
    "    sc = SparkContext(conf=conf)\n",
    "    \n",
    "sc.setLogLevel(\"INFO\")"
   ]
  },
  {
   "cell_type": "markdown",
   "metadata": {},
   "source": [
    "## Creating a local protein data bank\n",
    "\n",
    "For this, we will take data from ChEMBL.  Of particular interest are the `accession` and `sequence` fields in `component_sequences` table.\n",
    "\n",
    "Following the [NCBI C++ Toolkit documentation](https://ncbi.github.io/cxx-toolkit/pages/ch_demo#ch_demo.T5), we create a FASTA file in this format:\n",
    "- each line is no more than 80 chars length\n",
    "- the line description will be of the format:\n",
    " - `>ebl|[accession]|[locus]`\n",
    " \n",
    "Since locus is not available, we will omit this. Once the fasta file is created, then we need to create a local BLAST database by invoking the `makeblastdb` command line utility.  This tool is part of the `ncbi-blast+` package.  To install:\n",
    "\n",
    "```bash\n",
    "sudo apt-get install ncbi-blast+\n",
    "```\n",
    "\n",
    "A sample command line looks like:\n",
    "\n",
    "```bash\n",
    "makeblastdb -in mydatabank.fasta -parse_seqids -dbtype prot\n",
    "```\n"
   ]
  },
  {
   "cell_type": "code",
   "execution_count": 3,
   "metadata": {
    "collapsed": false
   },
   "outputs": [],
   "source": [
    "# get data from ChEMBL\n",
    "chemblhelper = ChEMBLHelper()\n",
    "databankfilename = chemblhelper.createDataBank(\"http://hadoop1:50070\", \"/home/hduser/Lab\", \"/user/hduser/ics5200\", 100000)"
   ]
  },
  {
   "cell_type": "code",
   "execution_count": 4,
   "metadata": {
    "collapsed": true
   },
   "outputs": [],
   "source": [
    "rawdata = sc.textFile(databankfilename) \\\n",
    "            .map(lambda line: line.split(\"\\t\"))            "
   ]
  },
  {
   "cell_type": "code",
   "execution_count": 9,
   "metadata": {
    "collapsed": false
   },
   "outputs": [],
   "source": [
    "# clean up before saving file to disk\n",
    "hdfsFasta = \"/home/hduser/Lab/chembl100000.fasta\"\n",
    "shutil.rmtree(hdfsFasta, ignore_errors=True)"
   ]
  },
  {
   "cell_type": "code",
   "execution_count": 10,
   "metadata": {
    "collapsed": false
   },
   "outputs": [],
   "source": [
    "# manipulate raw data rdd and create FASTA file\n",
    "rawdata.map(lambda line: (line[9], line[10])) \\\n",
    "        .distinct() \\\n",
    "        .map(lambda t: str(\">ebl|\" + t[0] + \"|\\r\" + \"\\r\".join(re.findall(\".{1,80}\",t[1])))) \\\n",
    "        .coalesce(1) \\\n",
    "        .saveAsTextFile(\"file://\" + hdfsFasta)"
   ]
  },
  {
   "cell_type": "code",
   "execution_count": 11,
   "metadata": {
    "collapsed": false
   },
   "outputs": [],
   "source": [
    "# copy spark job file to protein bank folder\n",
    "localFasta = \"/home/hduser/Lab/proteinbank/chemblsample.fasta\"\n",
    "os.rename(os.path.join(hdfsFasta, \"part-00000\"), localFasta)"
   ]
  },
  {
   "cell_type": "code",
   "execution_count": 12,
   "metadata": {
    "collapsed": false
   },
   "outputs": [
    {
     "name": "stdout",
     "output_type": "stream",
     "text": [
      "\n",
      "\n",
      "Building a new DB, current time: 01/12/2017 19:09:44\n",
      "New DB name:   /home/hduser/Lab/proteinbank/chemblsample.fasta\n",
      "New DB title:  chemblsample.fasta\n",
      "Sequence type: Protein\n",
      "Keep Linkouts: T\n",
      "Keep MBits: T\n",
      "Maximum file size: 1000000000B\n",
      "Adding sequences from FASTA; added 46 sequences in 0.008214 seconds.\n",
      "\n",
      "\n"
     ]
    }
   ],
   "source": [
    "# create local blast db\n",
    "process = subprocess.Popen(shlex.split(\"makeblastdb -in %s -parse_seqids -dbtype prot\" % os.path.basename(localFasta)),                           \n",
    "                           stdout = subprocess.PIPE,\n",
    "                           stderr = subprocess.PIPE,  \n",
    "                           cwd = os.path.dirname(localFasta),\n",
    "                           shell = False)\n",
    "\n",
    "out, err = process.communicate()\n",
    "\n",
    "print out\n",
    "print err"
   ]
  },
  {
   "cell_type": "markdown",
   "metadata": {},
   "source": [
    "## BLAST\n",
    "\n",
    "Using BioPython library:(http://biopython.org/DIST/docs/tutorial/Tutorial.html)"
   ]
  },
  {
   "cell_type": "code",
   "execution_count": 13,
   "metadata": {
    "collapsed": true
   },
   "outputs": [],
   "source": [
    "from Bio.Blast.Applications import NcbiblastxCommandline\n",
    "from Bio.Blast import NCBIXML"
   ]
  },
  {
   "cell_type": "markdown",
   "metadata": {},
   "source": [
    "### Run BLAST query"
   ]
  },
  {
   "cell_type": "code",
   "execution_count": 14,
   "metadata": {
    "collapsed": false
   },
   "outputs": [
    {
     "data": {
      "text/plain": [
       "46"
      ]
     },
     "execution_count": 14,
     "metadata": {},
     "output_type": "execute_result"
    }
   ],
   "source": [
    "proteinSeqs = rawdata.map(lambda line: (line[9], line[10])).distinct()\n",
    "proteinSeqs.count()"
   ]
  },
  {
   "cell_type": "code",
   "execution_count": 33,
   "metadata": {
    "collapsed": false
   },
   "outputs": [
    {
     "name": "stdout",
     "output_type": "stream",
     "text": [
      "P43681\n",
      "MELGGPGAPRLLPPLLLLLGTGLLRASSHVETRAHAEERLLKKLFSGYNKWSRPVANISDVVLVRFGLSIAQLIDVDEKNQMMTTNVWVKQEWHDYKLRWDPADYENVTSIRIPSELIWRPDIVLYNNADGDFAVTHLTKAHLFHDGRVQWTPPAIYKSSCSIDVTFFPFDQQNCTMKFGSWTYDKAKIDLVNMHSRVDQLDFWESGEWVIVDAVGTYNTRKYECCAEIYPDITYAFVIRRLPLFYTINLIIPCLLISCLTVLVFYLPSECGEKITLCISVLLSLTVFLLLITEIIPSTSLVIPLIGEYLLFTMIFVTLSIVITVFVLNVHHRSPRTHTMPTWVRRVFLDIVPRLLLMKRPSVVKDNCRRLIESMHKMASAPRFWPEPEGEPPATSGTQSLHPPSPSFCVPLDVPAEPGPSCKSPSDQLPPQQPLEAEKASPHPSPGPCRPPHGTQAPGLAKARSLSVQHMSSPGEAVEGGVRCRSRSIQYCVPRDDAAPEADGQAAGALASRNTHSAELPPPDQPSPCKCTCKKEPSSVSPSATVKTRSTKAPPPHLPLSPALTRAVEGVQYIADHLKAEDTDFSVKEDWKYVAMVIDRIFLWMFIIVCLLGTVGLFLPPWLAGMI\n"
     ]
    }
   ],
   "source": [
    "# prepare the blastx command\\n\n",
    "# note that we have to set the cmd = 'blastp' to run the protein counterpart instead of nucleoid\n",
    "\n",
    "outFile = \"/home/hduser/Lab/fastaTest.xml\"\n",
    "\n",
    "(query_acc, query_seq) = proteinSeqs.collect()[33]\n",
    "\n",
    "print query_acc\n",
    "print query_seq"
   ]
  },
  {
   "cell_type": "code",
   "execution_count": 34,
   "metadata": {
    "collapsed": false
   },
   "outputs": [
    {
     "name": "stdout",
     "output_type": "stream",
     "text": [
      "\n",
      "\n"
     ]
    }
   ],
   "source": [
    "blastp_cline = NcbiblastxCommandline(cmd = \"blastp\",\n",
    "                                     db = localFasta,\n",
    "                                     evalue = 0.01,\n",
    "                                     outfmt = 5,\n",
    "                                     remote = False,\n",
    "                                     out = outFile)\n",
    "\n",
    "(out, err) = blastp_cline(stdin = query_seq)\n",
    "print out\n",
    "print err"
   ]
  },
  {
   "cell_type": "markdown",
   "metadata": {},
   "source": [
    "### Parse BLAST output file"
   ]
  },
  {
   "cell_type": "code",
   "execution_count": 35,
   "metadata": {
    "collapsed": false
   },
   "outputs": [],
   "source": [
    "result_handle = open(outFile)\n",
    "\n",
    "#use NCBIXML.read if there is only one record, otherwise use .parse()\n",
    "blast_record = NCBIXML.read(result_handle)\n",
    "#blast_records = NCBIXML.parse(result_handle)"
   ]
  },
  {
   "cell_type": "code",
   "execution_count": 36,
   "metadata": {
    "collapsed": false
   },
   "outputs": [
    {
     "name": "stdout",
     "output_type": "stream",
     "text": [
      "-------------------------------------------\n",
      "  **** Alignment (1) ****\n",
      "   sequence: P43681\n",
      "   e value: 0.0\n",
      "-------------------------------------------\n",
      "  **** Alignment (1) ****\n",
      "   sequence: P09483\n",
      "   e value: 0.0\n",
      "-------------------------------------------\n",
      "  **** Alignment (1) ****\n",
      "   sequence: P12389\n",
      "   e value: 0.0\n",
      "  **** Alignment (2) ****\n",
      "   sequence: P12389\n",
      "   e value: 4.62337e-30\n",
      "-------------------------------------------\n",
      "  **** Alignment (1) ****\n",
      "   sequence: P32297\n",
      "   e value: 4.53918e-168\n",
      "  **** Alignment (2) ****\n",
      "   sequence: P32297\n",
      "   e value: 3.97331e-21\n",
      "-------------------------------------------\n",
      "  **** Alignment (1) ****\n",
      "   sequence: P04757\n",
      "   e value: 5.9835e-168\n",
      "  **** Alignment (2) ****\n",
      "   sequence: P04757\n",
      "   e value: 3.06058e-22\n",
      "-------------------------------------------\n",
      "  **** Alignment (1) ****\n",
      "   sequence: P02708\n",
      "   e value: 2.79895e-123\n",
      "  **** Alignment (2) ****\n",
      "   sequence: P02708\n",
      "   e value: 1.57876e-13\n",
      "-------------------------------------------\n",
      "  **** Alignment (1) ****\n",
      "   sequence: P17787\n",
      "   e value: 2.15841e-122\n",
      "  **** Alignment (2) ****\n",
      "   sequence: P17787\n",
      "   e value: 7.42827e-23\n",
      "-------------------------------------------\n",
      "  **** Alignment (1) ****\n",
      "   sequence: P12390\n",
      "   e value: 2.21328e-122\n",
      "  **** Alignment (2) ****\n",
      "   sequence: P12390\n",
      "   e value: 3.94746e-26\n",
      "-------------------------------------------\n",
      "  **** Alignment (1) ****\n",
      "   sequence: P30926\n",
      "   e value: 7.73243e-121\n",
      "  **** Alignment (2) ****\n",
      "   sequence: P30926\n",
      "   e value: 3.7696e-22\n",
      "-------------------------------------------\n",
      "  **** Alignment (1) ****\n",
      "   sequence: P12392\n",
      "   e value: 3.20585e-119\n",
      "  **** Alignment (2) ****\n",
      "   sequence: P12392\n",
      "   e value: 7.69644e-22\n",
      "-------------------------------------------\n",
      "  **** Alignment (1) ****\n",
      "   sequence: P11230\n",
      "   e value: 3.39991e-92\n",
      "  **** Alignment (2) ****\n",
      "   sequence: P11230\n",
      "   e value: 7.96386e-14\n",
      "-------------------------------------------\n",
      "  **** Alignment (1) ****\n",
      "   sequence: P07510\n",
      "   e value: 5.16782e-83\n",
      "  **** Alignment (2) ****\n",
      "   sequence: P07510\n",
      "   e value: 0.00163193\n",
      "-------------------------------------------\n",
      "  **** Alignment (1) ****\n",
      "   sequence: P18508\n",
      "   e value: 7.66042e-17\n",
      "-------------------------------------------\n",
      "  **** Alignment (1) ****\n",
      "   sequence: P15431\n",
      "   e value: 8.78793e-17\n",
      "-------------------------------------------\n",
      "  **** Alignment (1) ****\n",
      "   sequence: P63079\n",
      "   e value: 5.67068e-16\n",
      "-------------------------------------------\n",
      "  **** Alignment (1) ****\n",
      "   sequence: P30191\n",
      "   e value: 6.91179e-16\n",
      "-------------------------------------------\n",
      "  **** Alignment (1) ****\n",
      "   sequence: P28471\n",
      "   e value: 7.27628e-16\n",
      "-------------------------------------------\n",
      "  **** Alignment (1) ****\n",
      "   sequence: P63138\n",
      "   e value: 2.63311e-15\n",
      "-------------------------------------------\n",
      "  **** Alignment (1) ****\n",
      "   sequence: P47870\n",
      "   e value: 3.28385e-15\n",
      "-------------------------------------------\n",
      "  **** Alignment (1) ****\n",
      "   sequence: P20236\n",
      "   e value: 4.62198e-15\n",
      "-------------------------------------------\n",
      "  **** Alignment (1) ****\n",
      "   sequence: P28473\n",
      "   e value: 4.64932e-15\n",
      "-------------------------------------------\n",
      "  **** Alignment (1) ****\n",
      "   sequence: P23574\n",
      "   e value: 1.75029e-14\n",
      "-------------------------------------------\n",
      "  **** Alignment (1) ****\n",
      "   sequence: P14867\n",
      "   e value: 7.91482e-14\n",
      "-------------------------------------------\n",
      "  **** Alignment (1) ****\n",
      "   sequence: P19969\n",
      "   e value: 9.04537e-14\n",
      "-------------------------------------------\n",
      "  **** Alignment (1) ****\n",
      "   sequence: P62813\n",
      "   e value: 1.13028e-13\n",
      "-------------------------------------------\n",
      "  **** Alignment (1) ****\n",
      "   sequence: P23576\n",
      "   e value: 4.08578e-13\n",
      "-------------------------------------------\n",
      "  **** Alignment (1) ****\n",
      "   sequence: O09028\n",
      "   e value: 5.73094e-12\n",
      "-------------------------------------------\n",
      "  **** Alignment (1) ****\n",
      "   sequence: P18506\n",
      "   e value: 1.50255e-10\n"
     ]
    }
   ],
   "source": [
    "for alignment in blast_record.alignments:\n",
    "    i = 1\n",
    "    print(\"-------------------------------------------\")\n",
    "    for hsp in alignment.hsps:\n",
    "        print(\"  **** Alignment (%d) ****\" % i)\n",
    "        i = i + 1\n",
    "        print(\"   sequence: %s\" % alignment.accession)            \n",
    "        print(\"   e value: %s\" % hsp.expect) "
   ]
  },
  {
   "cell_type": "code",
   "execution_count": 74,
   "metadata": {
    "collapsed": false
   },
   "outputs": [],
   "source": [
    "# create matching proteins list.\n",
    "# each list entry is a tuple in the format:\n",
    "#  (Accession, Hit, High-Scoring-Pair expect value)\n",
    "result_handle = open(outFile)\n",
    "blast_record = NCBIXML.read(result_handle)\n",
    "matches = []\n",
    "for alignment in blast_record.alignments:   \n",
    "    i = 1\n",
    "    for hsp in alignment.hsps:\n",
    "        matches.append((alignment.accession, (i, hsp.expect)))\n",
    "        i = i + 1        "
   ]
  },
  {
   "cell_type": "code",
   "execution_count": 75,
   "metadata": {
    "collapsed": false
   },
   "outputs": [
    {
     "name": "stdout",
     "output_type": "stream",
     "text": [
      "[(u'P43681', (1, 0.0)), (u'P09483', (1, 0.0)), (u'P12389', (1, 0.0)), (u'P12389', (2, 4.62337e-30)), (u'P32297', (1, 4.53918e-168)), (u'P32297', (2, 3.97331e-21)), (u'P04757', (1, 5.9835e-168)), (u'P04757', (2, 3.06058e-22)), (u'P02708', (1, 2.79895e-123)), (u'P02708', (2, 1.57876e-13)), (u'P17787', (1, 2.15841e-122)), (u'P17787', (2, 7.42827e-23)), (u'P12390', (1, 2.21328e-122)), (u'P12390', (2, 3.94746e-26)), (u'P30926', (1, 7.73243e-121)), (u'P30926', (2, 3.7696e-22)), (u'P12392', (1, 3.20585e-119)), (u'P12392', (2, 7.69644e-22)), (u'P11230', (1, 3.39991e-92)), (u'P11230', (2, 7.96386e-14)), (u'P07510', (1, 5.16782e-83)), (u'P07510', (2, 0.00163193)), (u'P18508', (1, 7.66042e-17)), (u'P15431', (1, 8.78793e-17)), (u'P63079', (1, 5.67068e-16)), (u'P30191', (1, 6.91179e-16)), (u'P28471', (1, 7.27628e-16)), (u'P63138', (1, 2.63311e-15)), (u'P47870', (1, 3.28385e-15)), (u'P20236', (1, 4.62198e-15)), (u'P28473', (1, 4.64932e-15)), (u'P23574', (1, 1.75029e-14)), (u'P14867', (1, 7.91482e-14)), (u'P19969', (1, 9.04537e-14)), (u'P62813', (1, 1.13028e-13)), (u'P23576', (1, 4.08578e-13)), (u'O09028', (1, 5.73094e-12)), (u'P18506', (1, 1.50255e-10))]\n"
     ]
    }
   ],
   "source": [
    "print(matches)"
   ]
  },
  {
   "cell_type": "code",
   "execution_count": 89,
   "metadata": {
    "collapsed": false
   },
   "outputs": [
    {
     "data": {
      "text/plain": [
       "[(u'P43681', (1, 0.0)),\n",
       " (u'P09483', (1, 0.0)),\n",
       " (u'P12389', (1, 0.0)),\n",
       " (u'P12389', (2, 4.62337e-30)),\n",
       " (u'P32297', (1, 4.53918e-168)),\n",
       " (u'P32297', (2, 3.97331e-21)),\n",
       " (u'P04757', (1, 5.9835e-168)),\n",
       " (u'P04757', (2, 3.06058e-22)),\n",
       " (u'P02708', (1, 2.79895e-123)),\n",
       " (u'P02708', (2, 1.57876e-13)),\n",
       " (u'P17787', (1, 2.15841e-122)),\n",
       " (u'P17787', (2, 7.42827e-23)),\n",
       " (u'P12390', (1, 2.21328e-122)),\n",
       " (u'P12390', (2, 3.94746e-26)),\n",
       " (u'P30926', (1, 7.73243e-121)),\n",
       " (u'P30926', (2, 3.7696e-22)),\n",
       " (u'P12392', (1, 3.20585e-119)),\n",
       " (u'P12392', (2, 7.69644e-22)),\n",
       " (u'P11230', (1, 3.39991e-92)),\n",
       " (u'P11230', (2, 7.96386e-14)),\n",
       " (u'P07510', (1, 5.16782e-83)),\n",
       " (u'P07510', (2, 0.00163193)),\n",
       " (u'P18508', (1, 7.66042e-17)),\n",
       " (u'P15431', (1, 8.78793e-17)),\n",
       " (u'P63079', (1, 5.67068e-16)),\n",
       " (u'P30191', (1, 6.91179e-16)),\n",
       " (u'P28471', (1, 7.27628e-16)),\n",
       " (u'P63138', (1, 2.63311e-15)),\n",
       " (u'P47870', (1, 3.28385e-15)),\n",
       " (u'P20236', (1, 4.62198e-15)),\n",
       " (u'P28473', (1, 4.64932e-15)),\n",
       " (u'P23574', (1, 1.75029e-14)),\n",
       " (u'P14867', (1, 7.91482e-14)),\n",
       " (u'P19969', (1, 9.04537e-14)),\n",
       " (u'P62813', (1, 1.13028e-13)),\n",
       " (u'P23576', (1, 4.08578e-13)),\n",
       " (u'O09028', (1, 5.73094e-12)),\n",
       " (u'P18506', (1, 1.50255e-10))]"
      ]
     },
     "execution_count": 89,
     "metadata": {},
     "output_type": "execute_result"
    }
   ],
   "source": [
    "sm = sc.parallelize(matches) \n",
    "sm.collect()"
   ]
  },
  {
   "cell_type": "code",
   "execution_count": 90,
   "metadata": {
    "collapsed": false
   },
   "outputs": [
    {
     "data": {
      "text/plain": [
       "28"
      ]
     },
     "execution_count": 90,
     "metadata": {},
     "output_type": "execute_result"
    }
   ],
   "source": [
    "uniqueAccessions = sm.map(lambda t: t[0]).distinct().collect()\n",
    "uniqueAccessions\n",
    "len(uniqueAccessions)"
   ]
  },
  {
   "cell_type": "code",
   "execution_count": 91,
   "metadata": {
    "collapsed": false
   },
   "outputs": [
    {
     "data": {
      "text/plain": [
       "[(u'P11230', u'16'),\n",
       " (u'P20236', u'30'),\n",
       " (u'O09028', u'1'),\n",
       " (u'P43681', u'46'),\n",
       " (u'P32297', u'43'),\n",
       " (u'P23576', u'32'),\n",
       " (u'P18508', u'28'),\n",
       " (u'P12389', u'18'),\n",
       " (u'P17787', u'26'),\n",
       " (u'P02708', u'2')]"
      ]
     },
     "execution_count": 91,
     "metadata": {},
     "output_type": "execute_result"
    }
   ],
   "source": [
    "accessionsCompId = rawdata.filter(lambda t: t[9] in uniqueAccessions).map(lambda p: (p[9], p[8])).distinct()\n",
    "accessionsCompId.take(10)"
   ]
  },
  {
   "cell_type": "code",
   "execution_count": 92,
   "metadata": {
    "collapsed": false
   },
   "outputs": [],
   "source": [
    "from pyspark.sql.types import *\n",
    "from pyspark.sql.functions import col, desc\n",
    "from pyspark.sql import SQLContext\n",
    "simSchema = StructType([StructField(\"accession\", StringType(), False),\n",
    "                                StructField(\"hit\", IntegerType(), False),\n",
    "                                StructField(\"similarity\", FloatType(), False),\n",
    "                                StructField(\"compId\", LongType(), False)])"
   ]
  },
  {
   "cell_type": "code",
   "execution_count": 98,
   "metadata": {
    "collapsed": false
   },
   "outputs": [],
   "source": [
    "sm2 = sm.join(accessionsCompId).map(lambda t: (t[0], t[1][0][0], t[1][0][1], long(t[1][1])))\n",
    "#accessionsCompId.join(sm).collect()"
   ]
  },
  {
   "cell_type": "code",
   "execution_count": 99,
   "metadata": {
    "collapsed": false
   },
   "outputs": [],
   "source": [
    "sim = sqlContext.createDataFrame(sm2, simSchema) "
   ]
  },
  {
   "cell_type": "code",
   "execution_count": 100,
   "metadata": {
    "collapsed": false
   },
   "outputs": [
    {
     "name": "stdout",
     "output_type": "stream",
     "text": [
      "+---------+---+-----------+------+\n",
      "|accession|hit| similarity|compId|\n",
      "+---------+---+-----------+------+\n",
      "|   P28471|  1|7.27628E-16|    38|\n",
      "|   P18506|  1|1.50255E-10|    27|\n",
      "|   P30926|  1|        0.0|    42|\n",
      "|   P30926|  2| 3.7696E-22|    42|\n",
      "|   P15431|  1|8.78793E-17|    24|\n",
      "|   P43681|  1|        0.0|    46|\n",
      "|   P32297|  1|        0.0|    43|\n",
      "|   P32297|  2|3.97331E-21|    43|\n",
      "|   P23574|  1|1.75029E-14|    31|\n",
      "|   P04757|  1|        0.0|     4|\n",
      "|   P04757|  2|3.06058E-22|     4|\n",
      "|   P63138|  1|2.63311E-15|    50|\n",
      "|   P07510|  1|        0.0|     9|\n",
      "|   P07510|  2| 0.00163193|     9|\n",
      "|   P20236|  1|4.62198E-15|    30|\n",
      "|   P12390|  1|        0.0|    19|\n",
      "|   P12390|  2|3.94746E-26|    19|\n",
      "|   P63079|  1|5.67068E-16|    49|\n",
      "|   P28473|  1|4.64932E-15|    39|\n",
      "|   P19969|  1|9.04537E-14|    29|\n",
      "+---------+---+-----------+------+\n",
      "only showing top 20 rows\n",
      "\n"
     ]
    }
   ],
   "source": [
    "sim.show()"
   ]
  },
  {
   "cell_type": "code",
   "execution_count": null,
   "metadata": {
    "collapsed": true
   },
   "outputs": [],
   "source": []
  }
 ],
 "metadata": {
  "kernelspec": {
   "display_name": "Python 2",
   "language": "python",
   "name": "python2"
  },
  "language_info": {
   "codemirror_mode": {
    "name": "ipython",
    "version": 2
   },
   "file_extension": ".py",
   "mimetype": "text/x-python",
   "name": "python",
   "nbconvert_exporter": "python",
   "pygments_lexer": "ipython2",
   "version": "2.7.12"
  }
 },
 "nbformat": 4,
 "nbformat_minor": 2
}
