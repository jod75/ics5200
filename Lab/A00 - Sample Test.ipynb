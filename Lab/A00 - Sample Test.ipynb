{
 "cells": [
  {
   "cell_type": "markdown",
   "metadata": {},
   "source": [
    "# Test using sample data\n",
    "\n",
    "In this notebook, we get a sample data from ChEMBL and using an unseen molecule, the program suggests putative protein targets."
   ]
  },
  {
   "cell_type": "code",
   "execution_count": 1,
   "metadata": {
    "collapsed": false
   },
   "outputs": [],
   "source": [
    "sc.setLogLevel(\"INFO\")\n",
    "sc.addPyFile(\"moleculehelper.py\") # 300 - Ligand framework"
   ]
  },
  {
   "cell_type": "code",
   "execution_count": 13,
   "metadata": {
    "collapsed": false
   },
   "outputs": [],
   "source": [
    "from rdkit import Chem\n",
    "from rdkit.Chem import AllChem\n",
    "from rdkit import DataStructs\n",
    "from rdkit.Chem import MACCSkeys\n",
    "\n",
    "from moleculehelper import *\n",
    "from chemblhelper import *\n",
    "from pythonhelper import *\n",
    "from elements import *\n",
    "\n",
    "import os.path"
   ]
  },
  {
   "cell_type": "markdown",
   "metadata": {},
   "source": [
    "## Get data from ChEMBL\n",
    "\n",
    "### Bindings"
   ]
  },
  {
   "cell_type": "code",
   "execution_count": 3,
   "metadata": {
    "collapsed": false
   },
   "outputs": [],
   "source": [
    "# get samples from ChEMBL\n",
    "chemblhelper = ChEMBLHelper()\n",
    "\n",
    "# a global dictionary holding our bindings bank\n",
    "bindings = Bindings()\n",
    "bindingsPklFilename = \"bindings100000.pkl\"\n",
    "if os.path.isfile(bindingsPklFilename):\n",
    "    bindings.loadBindings(bindingsPklFilename)\n",
    "else:\n",
    "    bindings.addBindings(chemblhelper.getBindings(100000))\n",
    "    bindings.saveBindings(bindingsPklFilename)"
   ]
  },
  {
   "cell_type": "code",
   "execution_count": 21,
   "metadata": {
    "collapsed": false
   },
   "outputs": [
    {
     "name": "stdout",
     "output_type": "stream",
     "text": [
      "+------+--------+--------+------------+---------+---------+--------+-------------+------------+---------+--------------------+--------------------+\n",
      "|row_id|assay_id|molregno|std_relation|std_value|std_units|std_type|pchembl_value|component_id|accession|            sequence|    canonical_smiles|\n",
      "+------+--------+--------+------------+---------+---------+--------+-------------+------------+---------+--------------------+--------------------+\n",
      "|     1| 1459233|  222065|           =|        1|       nM|      Ki|            9|           1|   O09028|MSYSLYLAFVCLNLLAQ...|Cc1ccc2OC(=CC(=O)...|\n",
      "|     2| 1459233|   86147|           =|        2|       nM|      Ki|            9|           1|   O09028|MSYSLYLAFVCLNLLAQ...|[O-][N+](=O)c1ccc...|\n",
      "|     3| 1459233|   86094|           =|        2|       nM|      Ki|            9|           1|   O09028|MSYSLYLAFVCLNLLAQ...|[O-][N+](=O)c1ccc...|\n",
      "|     4|  142605|  181426|           =|    52000|       nM|    EC50|            4|           2|   P02708|MEPWPLLLLFSLCSAGL...|CN1CCCC1c2cncc(c2...|\n",
      "|     5|  142605|  181426|           =|    53000|       nM|    EC50|            4|           2|   P02708|MEPWPLLLLFSLCSAGL...|CN1CCCC1c2cncc(c2...|\n",
      "+------+--------+--------+------------+---------+---------+--------+-------------+------------+---------+--------------------+--------------------+\n",
      "only showing top 5 rows\n",
      "\n"
     ]
    }
   ],
   "source": [
    "bindings.printBindings(10)"
   ]
  },
  {
   "cell_type": "markdown",
   "metadata": {},
   "source": [
    "### Molecules"
   ]
  },
  {
   "cell_type": "code",
   "execution_count": null,
   "metadata": {
    "collapsed": false
   },
   "outputs": [],
   "source": [
    "# get molecules from databank\n",
    "molecules = Molecules()\n",
    "\n",
    "for index, binding in bindings.getBindings().iteritems():  \n",
    "    # there is no need to cater for distinct as this is done implicitly when adding data to the molecules dictionary\n",
    "    molecules.addMolecule(binding[BindingAttribute.MOLREGNO], binding[BindingAttribute.CANONICAL_SMILES])"
   ]
  },
  {
   "cell_type": "code",
   "execution_count": null,
   "metadata": {
    "collapsed": false
   },
   "outputs": [],
   "source": [
    "molecules.printMolecules(10)"
   ]
  },
  {
   "cell_type": "markdown",
   "metadata": {},
   "source": [
    "### Proteins"
   ]
  },
  {
   "cell_type": "code",
   "execution_count": null,
   "metadata": {
    "collapsed": true
   },
   "outputs": [],
   "source": [
    "# get proteins from databank\n",
    "proteins = Proteins()\n",
    "\n",
    "for index, binding in bindings.getBindings().iteritems():  \n",
    "    # there is no need to cater for distinct as this is done implicitly when adding data to the proteins dictionary\n",
    "    proteins.addProtein(binding[BindingAttribute.COMPONENT_ID], binding[BindingAttribute.SEQUENCE])"
   ]
  },
  {
   "cell_type": "code",
   "execution_count": null,
   "metadata": {
    "collapsed": false
   },
   "outputs": [],
   "source": [
    "proteins.printProteins(5)"
   ]
  },
  {
   "cell_type": "markdown",
   "metadata": {},
   "source": [
    "## Run PySpark Jobs\n",
    "\n",
    "In the next section, we will run a number of Spark jobs to get Molecule similarities"
   ]
  },
  {
   "cell_type": "code",
   "execution_count": null,
   "metadata": {
    "collapsed": true
   },
   "outputs": [],
   "source": [
    "# this must run on the main thread\n",
    "def findSimilarMolecules(querySmiles, knownMolecules, molHelper = MoleculeHelper, similarityThreshold = 0.85):\n",
    "    \"\"\" Returns an RDD with similar molecules.\n",
    "    \"\"\"\n",
    "    \n",
    "    # step 1 - create a molecule helper class for each molecule, this will take\n",
    "    #          more memory but will increase computation efficiency\n",
    "    queryMol = dict()\n",
    "    queryMol.update({0: querySmiles})\n",
    "    queryRDD = sc.parallelize(queryMol).map(lambda k:(k, molHelper(queryMol[k])))\n",
    "    mols = sc.parallelize(knownMolecules).map(lambda k:(k, molHelper(knownMolecules[k]))).union(queryRDD)    \n",
    "\n",
    "    sm = mols.cartesian(queryRDD) \\\n",
    "             .map(lambda ((k1,v1),(k2,v2)): (k1, k2, float(v1.similarity(v2)))) \\\n",
    "             .filter(lambda (k1, k2, v): v >= similarityThreshold and k1 != k2)    \n",
    "\n",
    "    return sm"
   ]
  },
  {
   "cell_type": "code",
   "execution_count": null,
   "metadata": {
    "collapsed": true
   },
   "outputs": [],
   "source": [
    "sm = findSimilarMolecules(\"CC(C)(C)c1ccc(cc1)S(=O)(=O)N2CCC(CC2)c3ccncc3\", molecules.getMolecules(), similarityThreshold=0.5)"
   ]
  },
  {
   "cell_type": "code",
   "execution_count": null,
   "metadata": {
    "collapsed": false
   },
   "outputs": [],
   "source": [
    "sm.collect()"
   ]
  },
  {
   "cell_type": "code",
   "execution_count": null,
   "metadata": {
    "collapsed": false
   },
   "outputs": [],
   "source": [
    "sm.count()"
   ]
  },
  {
   "cell_type": "code",
   "execution_count": null,
   "metadata": {
    "collapsed": true
   },
   "outputs": [],
   "source": [
    "def getBindings(similarMoleculesRDD):\n",
    "    "
   ]
  },
  {
   "cell_type": "code",
   "execution_count": null,
   "metadata": {
    "collapsed": true
   },
   "outputs": [],
   "source": []
  }
 ],
 "metadata": {
  "kernelspec": {
   "display_name": "Python 2",
   "language": "python",
   "name": "python2"
  },
  "language_info": {
   "codemirror_mode": {
    "name": "ipython",
    "version": 2
   },
   "file_extension": ".py",
   "mimetype": "text/x-python",
   "name": "python",
   "nbconvert_exporter": "python",
   "pygments_lexer": "ipython2",
   "version": "2.7.12"
  }
 },
 "nbformat": 4,
 "nbformat_minor": 2
}
