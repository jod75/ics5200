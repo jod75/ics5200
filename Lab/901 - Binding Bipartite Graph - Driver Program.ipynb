{
 "cells": [
  {
   "cell_type": "markdown",
   "metadata": {},
   "source": [
    "# Binding Bipartite Graph\n",
    "## Driver Program"
   ]
  },
  {
   "cell_type": "code",
   "execution_count": 1,
   "metadata": {
    "collapsed": true
   },
   "outputs": [],
   "source": [
    "sc.setLogLevel(\"INFO\")"
   ]
  },
  {
   "cell_type": "code",
   "execution_count": 2,
   "metadata": {
    "collapsed": true
   },
   "outputs": [],
   "source": [
    "from chemblhelper import *"
   ]
  },
  {
   "cell_type": "code",
   "execution_count": 3,
   "metadata": {
    "collapsed": true
   },
   "outputs": [],
   "source": [
    "# a global dictionary holding our bindings bank\n",
    "__bindings = dict([]) "
   ]
  },
  {
   "cell_type": "code",
   "execution_count": 9,
   "metadata": {
    "collapsed": true
   },
   "outputs": [],
   "source": [
    "def reset():\n",
    "    \"Resets bindings data bank\"\n",
    "    __bindings.clear()\n",
    "    \n",
    "def addBinding(assay_id, molregno, std_relation, std_value, std_units, std_type, \n",
    "                 pchembl_value, component_id, accession, sequence, canonical_smiles):\n",
    "    \"Adds a new binding in the internal dictionary\"\n",
    "    __bindings.update({assay_id: [molregno, std_relation, std_value, std_units, \n",
    "                                            std_type, pchembl_value, component_id, accession, \n",
    "                                            sequence, canonical_smiles]})\n",
    "\n",
    "def addBindings(bindings):\n",
    "    __bindings.update(bindings)\n",
    "        \n",
    "def printBindings(n=-1):\n",
    "    \"Pretty print our bindings data bank\"\n",
    "    print(\"AssayID\\t|\\tMolNo\\t|\\tCompID\\t|\\tpChEMBL_Value\")\n",
    "    print(\"-----------------------------------------------------------------------------------\")    \n",
    "    message = \"(Showing first %d bindings from %d)\" % (n, len(__bindings))\n",
    "    for index, data in __bindings.iteritems():        \n",
    "        print(\"%s\\t|\\t%s\\t|\\t%s\\t|\\t%s\" % (index, data[1], data[7], data[6]))\n",
    "        n = n - 1\n",
    "        if n == 0:\n",
    "            print(message)\n",
    "            break"
   ]
  },
  {
   "cell_type": "code",
   "execution_count": 5,
   "metadata": {
    "collapsed": false
   },
   "outputs": [
    {
     "data": {
      "text/plain": [
       "100"
      ]
     },
     "execution_count": 5,
     "metadata": {},
     "output_type": "execute_result"
    }
   ],
   "source": [
    "reset()\n",
    "chemblhelper = ChEMBLHelper()\n",
    "bindings = chemblhelper.getBindings(100)\n",
    "len(bindings)"
   ]
  },
  {
   "cell_type": "code",
   "execution_count": 7,
   "metadata": {
    "collapsed": false
   },
   "outputs": [],
   "source": [
    "addBindings(bindings)"
   ]
  },
  {
   "cell_type": "code",
   "execution_count": 10,
   "metadata": {
    "collapsed": false
   },
   "outputs": [
    {
     "name": "stdout",
     "output_type": "stream",
     "text": [
      "AssayID\t|\tMolNo\t|\tCompID\t|\tpChEMBL_Value\n",
      "-----------------------------------------------------------------------------------\n",
      "1\t|\t222065\t|\t1\t|\t9.050000000000000000000000000000\n",
      "2\t|\t86147\t|\t1\t|\t8.820000000000000000000000000000\n",
      "3\t|\t86094\t|\t1\t|\t8.820000000000000000000000000000\n",
      "4\t|\t181426\t|\t2\t|\t4.280000000000000000000000000000\n",
      "5\t|\t181426\t|\t2\t|\t4.280000000000000000000000000000\n",
      "6\t|\t1151890\t|\t2\t|\tNone\n",
      "7\t|\t181427\t|\t2\t|\tNone\n",
      "8\t|\t98520\t|\t2\t|\tNone\n",
      "9\t|\t98101\t|\t2\t|\tNone\n",
      "10\t|\t98100\t|\t2\t|\tNone\n",
      "11\t|\t675\t|\t2\t|\t10.280000000000000000000000000000\n",
      "12\t|\t522894\t|\t2\t|\t7.960000000000000000000000000000\n",
      "13\t|\t98379\t|\t2\t|\tNone\n",
      "14\t|\t98496\t|\t2\t|\tNone\n",
      "15\t|\t300374\t|\t2\t|\t7.430000000000000000000000000000\n",
      "16\t|\t98339\t|\t2\t|\t7.550000000000000000000000000000\n",
      "17\t|\t98555\t|\t2\t|\t7.510000000000000000000000000000\n",
      "18\t|\t98876\t|\t2\t|\t7.350000000000000000000000000000\n",
      "19\t|\t98875\t|\t2\t|\tNone\n",
      "20\t|\t98520\t|\t2\t|\tNone\n",
      "21\t|\t98101\t|\t2\t|\tNone\n",
      "22\t|\t98100\t|\t2\t|\tNone\n",
      "23\t|\t675\t|\t2\t|\tNone\n",
      "24\t|\t522894\t|\t2\t|\tNone\n",
      "25\t|\t98379\t|\t2\t|\tNone\n",
      "26\t|\t98496\t|\t2\t|\tNone\n",
      "27\t|\t300374\t|\t2\t|\tNone\n",
      "28\t|\t98339\t|\t2\t|\tNone\n",
      "29\t|\t98555\t|\t2\t|\tNone\n",
      "30\t|\t98876\t|\t2\t|\tNone\n",
      "31\t|\t98875\t|\t2\t|\tNone\n",
      "32\t|\t330416\t|\t2\t|\t6.190000000000000000000000000000\n",
      "33\t|\t330417\t|\t2\t|\t6.280000000000000000000000000000\n",
      "34\t|\t330371\t|\t2\t|\tNone\n",
      "35\t|\t330372\t|\t2\t|\t5.450000000000000000000000000000\n",
      "36\t|\t115\t|\t2\t|\t5.200000000000000000000000000000\n",
      "37\t|\t522894\t|\t2\t|\t6.600000000000000000000000000000\n",
      "38\t|\t330419\t|\t2\t|\tNone\n",
      "39\t|\t330428\t|\t2\t|\tNone\n",
      "40\t|\t352807\t|\t2\t|\tNone\n",
      "41\t|\t352902\t|\t2\t|\tNone\n",
      "42\t|\t298506\t|\t2\t|\tNone\n",
      "43\t|\t352875\t|\t2\t|\tNone\n",
      "44\t|\t352768\t|\t2\t|\tNone\n",
      "45\t|\t575628\t|\t2\t|\tNone\n",
      "46\t|\t615432\t|\t2\t|\tNone\n",
      "47\t|\t650501\t|\t2\t|\tNone\n",
      "48\t|\t650500\t|\t2\t|\tNone\n",
      "49\t|\t650499\t|\t2\t|\tNone\n",
      "50\t|\t650498\t|\t2\t|\tNone\n",
      "51\t|\t650497\t|\t2\t|\tNone\n",
      "52\t|\t651271\t|\t2\t|\tNone\n",
      "53\t|\t651270\t|\t2\t|\tNone\n",
      "54\t|\t651269\t|\t2\t|\tNone\n",
      "55\t|\t651242\t|\t2\t|\tNone\n",
      "56\t|\t651241\t|\t2\t|\tNone\n",
      "57\t|\t651240\t|\t2\t|\tNone\n",
      "58\t|\t651239\t|\t2\t|\tNone\n",
      "59\t|\t651261\t|\t2\t|\tNone\n",
      "60\t|\t651235\t|\t2\t|\tNone\n",
      "61\t|\t651234\t|\t2\t|\tNone\n",
      "62\t|\t651233\t|\t2\t|\tNone\n",
      "63\t|\t651232\t|\t2\t|\tNone\n",
      "64\t|\t651231\t|\t2\t|\tNone\n",
      "65\t|\t651230\t|\t2\t|\tNone\n",
      "66\t|\t651228\t|\t2\t|\tNone\n",
      "67\t|\t651227\t|\t2\t|\tNone\n",
      "68\t|\t651226\t|\t2\t|\tNone\n",
      "69\t|\t651225\t|\t2\t|\tNone\n",
      "70\t|\t650501\t|\t2\t|\tNone\n",
      "71\t|\t650500\t|\t2\t|\tNone\n",
      "72\t|\t650499\t|\t2\t|\t4.370000000000000000000000000000\n",
      "73\t|\t650498\t|\t2\t|\t4.240000000000000000000000000000\n",
      "74\t|\t650497\t|\t2\t|\t5.000000000000000000000000000000\n",
      "75\t|\t651271\t|\t2\t|\t4.850000000000000000000000000000\n",
      "76\t|\t651270\t|\t2\t|\t4.960000000000000000000000000000\n",
      "77\t|\t651269\t|\t2\t|\t5.180000000000000000000000000000\n",
      "78\t|\t651242\t|\t2\t|\t5.140000000000000000000000000000\n",
      "79\t|\t651241\t|\t2\t|\t4.640000000000000000000000000000\n",
      "80\t|\t651240\t|\t2\t|\t5.140000000000000000000000000000\n",
      "81\t|\t651239\t|\t2\t|\t4.440000000000000000000000000000\n",
      "82\t|\t651261\t|\t2\t|\t5.230000000000000000000000000000\n",
      "83\t|\t651235\t|\t2\t|\t4.600000000000000000000000000000\n",
      "84\t|\t651234\t|\t2\t|\t4.700000000000000000000000000000\n",
      "85\t|\t651233\t|\t2\t|\t4.720000000000000000000000000000\n",
      "86\t|\t651232\t|\t2\t|\t4.160000000000000000000000000000\n",
      "87\t|\t651231\t|\t2\t|\t4.020000000000000000000000000000\n",
      "88\t|\t651230\t|\t2\t|\t4.310000000000000000000000000000\n",
      "89\t|\t651228\t|\t2\t|\t4.480000000000000000000000000000\n",
      "90\t|\t651227\t|\t2\t|\t4.740000000000000000000000000000\n",
      "91\t|\t651226\t|\t2\t|\tNone\n",
      "92\t|\t651225\t|\t2\t|\tNone\n",
      "93\t|\t651200\t|\t2\t|\t4.550000000000000000000000000000\n",
      "94\t|\t651199\t|\t2\t|\t5.120000000000000000000000000000\n",
      "95\t|\t77128\t|\t2\t|\t5.100000000000000000000000000000\n",
      "96\t|\t707813\t|\t2\t|\tNone\n",
      "97\t|\t707813\t|\t2\t|\tNone\n",
      "98\t|\t707813\t|\t2\t|\t5.020000000000000000000000000000\n",
      "99\t|\t707813\t|\t2\t|\tNone\n",
      "100\t|\t1167776\t|\t2\t|\t5.140000000000000000000000000000\n"
     ]
    }
   ],
   "source": [
    "printBindings()"
   ]
  },
  {
   "cell_type": "code",
   "execution_count": null,
   "metadata": {
    "collapsed": true
   },
   "outputs": [],
   "source": []
  }
 ],
 "metadata": {
  "celltoolbar": "Raw Cell Format",
  "kernelspec": {
   "display_name": "Python 2",
   "language": "python",
   "name": "python2"
  },
  "language_info": {
   "codemirror_mode": {
    "name": "ipython",
    "version": 2
   },
   "file_extension": ".py",
   "mimetype": "text/x-python",
   "name": "python",
   "nbconvert_exporter": "python",
   "pygments_lexer": "ipython2",
   "version": "2.7.12"
  }
 },
 "nbformat": 4,
 "nbformat_minor": 2
}
