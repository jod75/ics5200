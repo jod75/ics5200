{
 "cells": [
  {
   "cell_type": "markdown",
   "metadata": {},
   "source": [
    "# Helper methods\n",
    "\n",
    "This notebook describes generic methods used throught the study."
   ]
  },
  {
   "cell_type": "code",
   "execution_count": 1,
   "metadata": {
    "collapsed": true
   },
   "outputs": [],
   "source": [
    "class PythonHelper(object):\n",
    "    \"\"\" A generic Python helper class describing various helper methods.\n",
    "    \"\"\"\n",
    "\n",
    "    # write to Jupyter console\n",
    "    @staticmethod\n",
    "    def writeToJupyterConsole(message):\n",
    "        \"\"\"  Writes text to Jupyter console.\n",
    "             \n",
    "             Args:\n",
    "                 message: the message to write to the console.\n",
    "        \"\"\"\n",
    "        import sys        \n",
    "        nb_stdout = sys.stdout\n",
    "        try:        \n",
    "            sys.stdout = open('/dev/stdout', 'w')\n",
    "            print(message)\n",
    "        finally:\n",
    "            sys.stdout = nb_stdout\n",
    "    \n",
    "    @staticmethod\n",
    "    def getDecimal(text):\n",
    "        \"\"\"  Converts a given string to a Python Decimal.  It takes care to handle None values.\n",
    "        \n",
    "             Args:\n",
    "                 text: the string to convert.\n",
    "                 \n",
    "             Returns:\n",
    "                 A Decimal value representation of the input string or None.\n",
    "        \"\"\"\n",
    "        from decimal import Decimal\n",
    "        if text == None or text == 'None':\n",
    "            return None\n",
    "        else:\n",
    "            return Decimal(text)"
   ]
  },
  {
   "cell_type": "code",
   "execution_count": null,
   "metadata": {
    "collapsed": true
   },
   "outputs": [],
   "source": []
  }
 ],
 "metadata": {
  "kernelspec": {
   "display_name": "Python 2",
   "language": "python",
   "name": "python2"
  },
  "language_info": {
   "codemirror_mode": {
    "name": "ipython",
    "version": 2
   },
   "file_extension": ".py",
   "mimetype": "text/x-python",
   "name": "python",
   "nbconvert_exporter": "python",
   "pygments_lexer": "ipython2",
   "version": "2.7.12"
  }
 },
 "nbformat": 4,
 "nbformat_minor": 2
}
