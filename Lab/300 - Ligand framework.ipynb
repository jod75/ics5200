{
 "cells": [
  {
   "cell_type": "markdown",
   "metadata": {},
   "source": [
    "# Ligands Framework "
   ]
  },
  {
   "cell_type": "code",
   "execution_count": null,
   "metadata": {
    "collapsed": true
   },
   "outputs": [],
   "source": [
    "from rdkit import Chem\n",
    "from rdkit.Chem import AllChem\n",
    "from rdkit import DataStructs\n",
    "from rdkit.Chem import MACCSkeys"
   ]
  },
  {
   "cell_type": "code",
   "execution_count": 3,
   "metadata": {
    "collapsed": false
   },
   "outputs": [],
   "source": [
    "class MoleculeHelper(object):\n",
    "    \"Molecule helper class to create fingerprints and compute similarity\"    \n",
    "    \n",
    "    __smiles = None\n",
    "    __fingerprint = None\n",
    "    \n",
    "    def __init__(self, smiles):\n",
    "        self.__smiles = smiles\n",
    "    \n",
    "    # Override this method to implement different fingerprint algorithms\n",
    "    def fingerprint(self, molecule):\n",
    "        \"Returns Morgan's fingerprint\"\n",
    "        return AllChem.GetMorganFingerprintAsBitVect(molecule, 2)\n",
    "    \n",
    "    # Override this method to implement different similarity algorithms\n",
    "    def similarityAlgorithm(self, otherFingerprint, metric=DataStructs.TanimotoSimilarity):\n",
    "        \"Returns similarity coefficient between two molecule fingerprints. Defaults to Tanimoto.\"        \n",
    "        return DataStructs.FingerprintSimilarity(self.__getFingerprint(), otherFingerprint, metric)        \n",
    "    \n",
    "    def getSmiles(self):\n",
    "        \"Returns the SMILES representation of this molecule.\"\n",
    "        return self.__smiles\n",
    "    \n",
    "    def __getFingerprint(self):\n",
    "        if self.__fingerprint == None:\n",
    "            try:\n",
    "                m = Chem.MolFromSmiles(self.__smiles)\n",
    "                if m != None:\n",
    "                    self.__fingerprint = self.fingerprint(m)\n",
    "            except Exception as ex:\n",
    "                print(\"**** SPARK - fingerprint: %s\" % self.__smiles)\n",
    "                print(ex)\n",
    "                self.__fingerprint = None\n",
    "                #raise\n",
    "        return self.__fingerprint\n",
    "            \n",
    "    def getFingerprint(self):\n",
    "        \"Returns the fingerprint represenatation of this molecule.\"\n",
    "        return self.__getFingerprint()\n",
    "    \n",
    "    def similarity(self, otherMoleculeHelper, metric=DataStructs.TanimotoSimilarity):\n",
    "        sim = -1 # error\n",
    "        try:\n",
    "            otherFingerprint = otherMoleculeHelper.getFingerprint()\n",
    "            if self.__getFingerprint() != None and otherFingerprint != None:\n",
    "                sim = self.similarityAlgorithm(otherFingerprint, metric)\n",
    "        except Exception as ex:\n",
    "            print(\"**** SPARK - similarity: %s\" % self.__smiles)\n",
    "            print(ex)\n",
    "            #raise\n",
    "        return sim\n",
    "        \n",
    "    \n",
    "    def similarityFromSmiles(self, otherSmiles, metric=DataStructs.TanimotoSimilarity):\n",
    "        return self.similarity(type(self)(otherSmiles), metric)"
   ]
  },
  {
   "cell_type": "code",
   "execution_count": 5,
   "metadata": {
    "collapsed": true
   },
   "outputs": [],
   "source": [
    "# class that inherits MoleculeHelper and implements MACCS fingerprinting\n",
    "class MoleculeMACCSHelper(MoleculeHelper):    \n",
    "    \n",
    "    def fingerprint(self, molecule):\n",
    "        return MACCSkeys.GenMACCSKeys(molecule)    "
   ]
  }
 ],
 "metadata": {
  "celltoolbar": "Raw Cell Format",
  "kernelspec": {
   "display_name": "Python 2",
   "language": "python",
   "name": "python2"
  },
  "language_info": {
   "codemirror_mode": {
    "name": "ipython",
    "version": 2
   },
   "file_extension": ".py",
   "mimetype": "text/x-python",
   "name": "python",
   "nbconvert_exporter": "python",
   "pygments_lexer": "ipython2",
   "version": "2.7.12"
  }
 },
 "nbformat": 4,
 "nbformat_minor": 2
}
