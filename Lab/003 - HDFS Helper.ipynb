{
 "cells": [
  {
   "cell_type": "markdown",
   "metadata": {},
   "source": [
    "# HDFS Helper class\n",
    "\n",
    "This helper requires `hdfs` module.  To install use:\n",
    "\n",
    "```bash\n",
    "sudo pip install hdfs\n",
    "```\n",
    "\n",
    "Website: [HdfsCLI](http://hdfscli.readthedocs.io/en/latest/index.html)"
   ]
  },
  {
   "cell_type": "code",
   "execution_count": null,
   "metadata": {
    "collapsed": true
   },
   "outputs": [],
   "source": [
    "class HDFSHelper(object):       \n",
    "    \n",
    "    @staticmethod\n",
    "    def fileExists(server, filename):   \n",
    "        \"\"\" Checks is a file exists in hdfs.\n",
    "        \n",
    "            Args:\n",
    "                server: hdfs server and port, example: \"http://hadoop1:50070\".\n",
    "                filename: path of file to check.\n",
    "                \n",
    "            Returns:\n",
    "                True: if file exists, False otherwise.\n",
    "        \"\"\"\n",
    "        \n",
    "        from hdfs import InsecureClient\n",
    "        \n",
    "        client = InsecureClient(server)\n",
    "        return client.content(filename, strict=False) != None\n",
    "    \n",
    "    @staticmethod\n",
    "    def putFile(server, source, destination):\n",
    "        \"\"\" Uploads a file to HDFS.\n",
    "        \n",
    "            Args:\n",
    "                server: hdfs server and port, example: \"http://hadoop1:50070\".\n",
    "                source: localpath of file to upload. \n",
    "                destination: remote file, inclusing path.\n",
    "        \"\"\"\n",
    "        from hdfs import InsecureClient\n",
    "        \n",
    "        client = InsecureClient(server)\n",
    "        return client.upload(hdfs_path=destination, local_path=source)\n",
    "        "
   ]
  },
  {
   "cell_type": "code",
   "execution_count": null,
   "metadata": {
    "collapsed": true
   },
   "outputs": [],
   "source": []
  }
 ],
 "metadata": {
  "kernelspec": {
   "display_name": "Python 2",
   "language": "python",
   "name": "python2"
  },
  "language_info": {
   "codemirror_mode": {
    "name": "ipython",
    "version": 2
   },
   "file_extension": ".py",
   "mimetype": "text/x-python",
   "name": "python",
   "nbconvert_exporter": "python",
   "pygments_lexer": "ipython2",
   "version": "2.7.12"
  }
 },
 "nbformat": 4,
 "nbformat_minor": 2
}
